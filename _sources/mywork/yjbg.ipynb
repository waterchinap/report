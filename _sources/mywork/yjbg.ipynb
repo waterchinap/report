{
 "cells": [
  {
   "attachments": {},
   "cell_type": "markdown",
   "metadata": {},
   "source": [
    "# 年度业绩报告总体分析"
   ]
  },
  {
   "cell_type": "code",
   "execution_count": 1,
   "metadata": {
    "tags": [
     "remove-cell"
    ]
   },
   "outputs": [],
   "source": [
    "import pandas as pd\n",
    "import akshare as ak\n",
    "import altair as alt\n",
    "import time"
   ]
  },
  {
   "cell_type": "code",
   "execution_count": 2,
   "metadata": {
    "tags": [
     "remove-cell"
    ]
   },
   "outputs": [],
   "source": [
    "# this func will get performance report of all listed companys\n",
    "def getdata() :\n",
    "    # 创建一个基数列表，注意列表是不包含最后一个年份的。\n",
    "    l1 = list(range(20100000, 20230000, 10000))\n",
    "    l2 = [331, 630, 930, 1231]\n",
    "    qs = [ m+n for m in l1 for n in l2]\n",
    "    yjbg = pd.DataFrame()\n",
    "    for q in qs:\n",
    "        df = ak.stock_yjbb_em(date=str(q))\n",
    "        df['qs'] = q # add a new col of period\n",
    "        yjbg = yjbg.append(df, ignore_index=True)\n",
    "        time.sleep(2)\n",
    "        print(q)\n",
    "    yjbg.to_csv('yjbg2022.csv', index=False)\n",
    "\n",
    "    return"
   ]
  },
  {
   "cell_type": "code",
   "execution_count": 8,
   "metadata": {
    "tags": [
     "remove-cell"
    ]
   },
   "outputs": [],
   "source": [
    "df = pd.read_pickle('../../yjbg2022.pkl.gz')"
   ]
  },
  {
   "attachments": {},
   "cell_type": "markdown",
   "metadata": {},
   "source": [
    "## 数据集\n",
    "\n",
    "利用`akshare`的业绩报告模块，下载全部上市公司自2010年起的业绩报告。\n",
    "\n",
    "业绩报告包含的信息："
   ]
  },
  {
   "cell_type": "code",
   "execution_count": 42,
   "metadata": {
    "tags": [
     "remove-cell"
    ]
   },
   "outputs": [
    {
     "data": {
      "text/html": [
       "<div>\n",
       "<style scoped>\n",
       "    .dataframe tbody tr th:only-of-type {\n",
       "        vertical-align: middle;\n",
       "    }\n",
       "\n",
       "    .dataframe tbody tr th {\n",
       "        vertical-align: top;\n",
       "    }\n",
       "\n",
       "    .dataframe thead th {\n",
       "        text-align: right;\n",
       "    }\n",
       "</style>\n",
       "<table border=\"1\" class=\"dataframe\">\n",
       "  <thead>\n",
       "    <tr style=\"text-align: right;\">\n",
       "      <th></th>\n",
       "      <th>列名</th>\n",
       "      <th>类型</th>\n",
       "      <th>缺失比%</th>\n",
       "      <th>样例</th>\n",
       "    </tr>\n",
       "  </thead>\n",
       "  <tbody>\n",
       "    <tr>\n",
       "      <th>0</th>\n",
       "      <td>序号</td>\n",
       "      <td>int64</td>\n",
       "      <td>0.000000</td>\n",
       "      <td>4116</td>\n",
       "    </tr>\n",
       "    <tr>\n",
       "      <th>1</th>\n",
       "      <td>股票代码</td>\n",
       "      <td>int64</td>\n",
       "      <td>0.000000</td>\n",
       "      <td>870231</td>\n",
       "    </tr>\n",
       "    <tr>\n",
       "      <th>2</th>\n",
       "      <td>股票简称</td>\n",
       "      <td>object</td>\n",
       "      <td>0.000000</td>\n",
       "      <td>源悦汽车</td>\n",
       "    </tr>\n",
       "    <tr>\n",
       "      <th>3</th>\n",
       "      <td>每股收益</td>\n",
       "      <td>float64</td>\n",
       "      <td>1.772486</td>\n",
       "      <td>-0.08</td>\n",
       "    </tr>\n",
       "    <tr>\n",
       "      <th>4</th>\n",
       "      <td>营业收入-营业收入</td>\n",
       "      <td>float64</td>\n",
       "      <td>0.188940</td>\n",
       "      <td>71771743.91</td>\n",
       "    </tr>\n",
       "    <tr>\n",
       "      <th>5</th>\n",
       "      <td>营业收入-同比增长</td>\n",
       "      <td>float64</td>\n",
       "      <td>9.823344</td>\n",
       "      <td>-33.078996</td>\n",
       "    </tr>\n",
       "    <tr>\n",
       "      <th>6</th>\n",
       "      <td>营业收入-季度环比增长</td>\n",
       "      <td>float64</td>\n",
       "      <td>38.700052</td>\n",
       "      <td>20.4432</td>\n",
       "    </tr>\n",
       "    <tr>\n",
       "      <th>7</th>\n",
       "      <td>净利润-净利润</td>\n",
       "      <td>float64</td>\n",
       "      <td>0.026502</td>\n",
       "      <td>-5532474.8</td>\n",
       "    </tr>\n",
       "    <tr>\n",
       "      <th>8</th>\n",
       "      <td>净利润-同比增长</td>\n",
       "      <td>float64</td>\n",
       "      <td>9.352240</td>\n",
       "      <td>-188.331925</td>\n",
       "    </tr>\n",
       "    <tr>\n",
       "      <th>9</th>\n",
       "      <td>净利润-季度环比增长</td>\n",
       "      <td>float64</td>\n",
       "      <td>38.399182</td>\n",
       "      <td>-518.5794</td>\n",
       "    </tr>\n",
       "    <tr>\n",
       "      <th>10</th>\n",
       "      <td>每股净资产</td>\n",
       "      <td>float64</td>\n",
       "      <td>4.812369</td>\n",
       "      <td>1.120408</td>\n",
       "    </tr>\n",
       "    <tr>\n",
       "      <th>11</th>\n",
       "      <td>净资产收益率</td>\n",
       "      <td>float64</td>\n",
       "      <td>2.446560</td>\n",
       "      <td>-7.02</td>\n",
       "    </tr>\n",
       "    <tr>\n",
       "      <th>12</th>\n",
       "      <td>每股经营现金流量</td>\n",
       "      <td>float64</td>\n",
       "      <td>4.056607</td>\n",
       "      <td>-0.074919</td>\n",
       "    </tr>\n",
       "    <tr>\n",
       "      <th>13</th>\n",
       "      <td>销售毛利率</td>\n",
       "      <td>float64</td>\n",
       "      <td>2.401040</td>\n",
       "      <td>12.403711</td>\n",
       "    </tr>\n",
       "    <tr>\n",
       "      <th>14</th>\n",
       "      <td>所处行业</td>\n",
       "      <td>object</td>\n",
       "      <td>37.796506</td>\n",
       "      <td>NaN</td>\n",
       "    </tr>\n",
       "    <tr>\n",
       "      <th>15</th>\n",
       "      <td>最新公告日期</td>\n",
       "      <td>object</td>\n",
       "      <td>0.000000</td>\n",
       "      <td>2020-08-26</td>\n",
       "    </tr>\n",
       "    <tr>\n",
       "      <th>16</th>\n",
       "      <td>qs</td>\n",
       "      <td>int64</td>\n",
       "      <td>0.000000</td>\n",
       "      <td>20190630</td>\n",
       "    </tr>\n",
       "  </tbody>\n",
       "</table>\n",
       "</div>"
      ],
      "text/plain": [
       "             列名       类型       缺失比%           样例\n",
       "0            序号    int64   0.000000         4116\n",
       "1          股票代码    int64   0.000000       870231\n",
       "2          股票简称   object   0.000000         源悦汽车\n",
       "3          每股收益  float64   1.772486        -0.08\n",
       "4     营业收入-营业收入  float64   0.188940  71771743.91\n",
       "5     营业收入-同比增长  float64   9.823344   -33.078996\n",
       "6   营业收入-季度环比增长  float64  38.700052      20.4432\n",
       "7       净利润-净利润  float64   0.026502   -5532474.8\n",
       "8      净利润-同比增长  float64   9.352240  -188.331925\n",
       "9    净利润-季度环比增长  float64  38.399182    -518.5794\n",
       "10        每股净资产  float64   4.812369     1.120408\n",
       "11       净资产收益率  float64   2.446560        -7.02\n",
       "12     每股经营现金流量  float64   4.056607    -0.074919\n",
       "13        销售毛利率  float64   2.401040    12.403711\n",
       "14         所处行业   object  37.796506          NaN\n",
       "15       最新公告日期   object   0.000000   2020-08-26\n",
       "16           qs    int64   0.000000     20190630"
      ]
     },
     "execution_count": 42,
     "metadata": {},
     "output_type": "execute_result"
    }
   ],
   "source": [
    "col_profile = pd.concat([df.dtypes, df.isna().sum()/len(df)*100, df.sample().T], axis=1 ).reset_index()\n",
    "col_profile.columns = ['列名', '类型', '缺失比%','样例']\n",
    "col_profile"
   ]
  },
  {
   "attachments": {},
   "cell_type": "markdown",
   "metadata": {},
   "source": [
    "初步分析此数据集，有如下观点：\n",
    "\n",
    "- 共17列，其中序号无意义，代码数据格式不正确，但可以不考虑。\n",
    "- 最后一列时报告期，检视数据时发现2010年的报告期和公告日期有矛盾，但数据集尾部数据正常。\n",
    "- 净利润和营业收入的缺失值极少，应该不影响大局。\n",
    "- 净资产收益率缺乏率2.5%，考虑使用。"
   ]
  }
 ],
 "metadata": {
  "kernelspec": {
   "display_name": ".venv",
   "language": "python",
   "name": "python3"
  },
  "language_info": {
   "codemirror_mode": {
    "name": "ipython",
    "version": 3
   },
   "file_extension": ".py",
   "mimetype": "text/x-python",
   "name": "python",
   "nbconvert_exporter": "python",
   "pygments_lexer": "ipython3",
   "version": "3.11.3"
  },
  "orig_nbformat": 4
 },
 "nbformat": 4,
 "nbformat_minor": 2
}
