{
 "cells": [
  {
   "attachments": {},
   "cell_type": "markdown",
   "metadata": {},
   "source": [
    "# 年度业绩报告总体分析"
   ]
  },
  {
   "cell_type": "code",
   "execution_count": 17,
   "metadata": {
    "tags": [
     "remove-cell"
    ]
   },
   "outputs": [
    {
     "data": {
      "text/html": [
       "<style>\n",
       "        .bk-notebook-logo {\n",
       "            display: block;\n",
       "            width: 20px;\n",
       "            height: 20px;\n",
       "            background-image: url(data:image/png;base64,iVBORw0KGgoAAAANSUhEUgAAABQAAAAUCAYAAACNiR0NAAAABHNCSVQICAgIfAhkiAAAAAlwSFlzAAALEgAACxIB0t1+/AAAABx0RVh0U29mdHdhcmUAQWRvYmUgRmlyZXdvcmtzIENTNui8sowAAAOkSURBVDiNjZRtaJVlGMd/1/08zzln5zjP1LWcU9N0NkN8m2CYjpgQYQXqSs0I84OLIC0hkEKoPtiH3gmKoiJDU7QpLgoLjLIQCpEsNJ1vqUOdO7ppbuec5+V+rj4ctwzd8IIbbi6u+8f1539dt3A78eXC7QizUF7gyV1fD1Yqg4JWz84yffhm0qkFqBogB9rM8tZdtwVsPUhWhGcFJngGeWrPzHm5oaMmkfEg1usvLFyc8jLRqDOMru7AyC8saQr7GG7f5fvDeH7Ej8CM66nIF+8yngt6HWaKh7k49Soy9nXurCi1o3qUbS3zWfrYeQDTB/Qj6kX6Ybhw4B+bOYoLKCC9H3Nu/leUTZ1JdRWkkn2ldcCamzrcf47KKXdAJllSlxAOkRgyHsGC/zRday5Qld9DyoM4/q/rUoy/CXh3jzOu3bHUVZeU+DEn8FInkPBFlu3+nW3Nw0mk6vCDiWg8CeJaxEwuHS3+z5RgY+YBR6V1Z1nxSOfoaPa4LASWxxdNp+VWTk7+4vzaou8v8PN+xo+KY2xsw6une2frhw05CTYOmQvsEhjhWjn0bmXPjpE1+kplmmkP3suftwTubK9Vq22qKmrBhpY4jvd5afdRA3wGjFAgcnTK2s4hY0/GPNIb0nErGMCRxWOOX64Z8RAC4oCXdklmEvcL8o0BfkNK4lUg9HTl+oPlQxdNo3Mg4Nv175e/1LDGzZen30MEjRUtmXSfiTVu1kK8W4txyV6BMKlbgk3lMwYCiusNy9fVfvvwMxv8Ynl6vxoByANLTWplvuj/nF9m2+PDtt1eiHPBr1oIfhCChQMBw6Aw0UulqTKZdfVvfG7VcfIqLG9bcldL/+pdWTLxLUy8Qq38heUIjh4XlzZxzQm19lLFlr8vdQ97rjZVOLf8nclzckbcD4wxXMidpX30sFd37Fv/GtwwhzhxGVAprjbg0gCAEeIgwCZyTV2Z1REEW8O4py0wsjeloKoMr6iCY6dP92H6Vw/oTyICIthibxjm/DfN9lVz8IqtqKYLUXfoKVMVQVVJOElGjrnnUt9T9wbgp8AyYKaGlqingHZU/uG2NTZSVqwHQTWkx9hxjkpWDaCg6Ckj5qebgBVbT3V3NNXMSiWSDdGV3hrtzla7J+duwPOToIg42ChPQOQjspnSlp1V+Gjdged7+8UN5CRAV7a5EdFNwCjEaBR27b3W890TE7g24NAP/mMDXRWrGoFPQI9ls/MWO2dWFAar/xcOIImbbpA3zgAAAABJRU5ErkJggg==);\n",
       "        }\n",
       "    </style>\n",
       "    <div>\n",
       "        <a href=\"https://bokeh.org\" target=\"_blank\" class=\"bk-notebook-logo\"></a>\n",
       "        <span id=\"f07337bc-fedf-416b-be1d-f5dfa313776d\">Loading BokehJS ...</span>\n",
       "    </div>\n"
      ]
     },
     "metadata": {},
     "output_type": "display_data"
    },
    {
     "data": {
      "application/javascript": "(function(root) {\n  function now() {\n    return new Date();\n  }\n\n  const force = true;\n\n  if (typeof root._bokeh_onload_callbacks === \"undefined\" || force === true) {\n    root._bokeh_onload_callbacks = [];\n    root._bokeh_is_loading = undefined;\n  }\n\nconst JS_MIME_TYPE = 'application/javascript';\n  const HTML_MIME_TYPE = 'text/html';\n  const EXEC_MIME_TYPE = 'application/vnd.bokehjs_exec.v0+json';\n  const CLASS_NAME = 'output_bokeh rendered_html';\n\n  /**\n   * Render data to the DOM node\n   */\n  function render(props, node) {\n    const script = document.createElement(\"script\");\n    node.appendChild(script);\n  }\n\n  /**\n   * Handle when an output is cleared or removed\n   */\n  function handleClearOutput(event, handle) {\n    const cell = handle.cell;\n\n    const id = cell.output_area._bokeh_element_id;\n    const server_id = cell.output_area._bokeh_server_id;\n    // Clean up Bokeh references\n    if (id != null && id in Bokeh.index) {\n      Bokeh.index[id].model.document.clear();\n      delete Bokeh.index[id];\n    }\n\n    if (server_id !== undefined) {\n      // Clean up Bokeh references\n      const cmd_clean = \"from bokeh.io.state import curstate; print(curstate().uuid_to_server['\" + server_id + \"'].get_sessions()[0].document.roots[0]._id)\";\n      cell.notebook.kernel.execute(cmd_clean, {\n        iopub: {\n          output: function(msg) {\n            const id = msg.content.text.trim();\n            if (id in Bokeh.index) {\n              Bokeh.index[id].model.document.clear();\n              delete Bokeh.index[id];\n            }\n          }\n        }\n      });\n      // Destroy server and session\n      const cmd_destroy = \"import bokeh.io.notebook as ion; ion.destroy_server('\" + server_id + \"')\";\n      cell.notebook.kernel.execute(cmd_destroy);\n    }\n  }\n\n  /**\n   * Handle when a new output is added\n   */\n  function handleAddOutput(event, handle) {\n    const output_area = handle.output_area;\n    const output = handle.output;\n\n    // limit handleAddOutput to display_data with EXEC_MIME_TYPE content only\n    if ((output.output_type != \"display_data\") || (!Object.prototype.hasOwnProperty.call(output.data, EXEC_MIME_TYPE))) {\n      return\n    }\n\n    const toinsert = output_area.element.find(\".\" + CLASS_NAME.split(' ')[0]);\n\n    if (output.metadata[EXEC_MIME_TYPE][\"id\"] !== undefined) {\n      toinsert[toinsert.length - 1].firstChild.textContent = output.data[JS_MIME_TYPE];\n      // store reference to embed id on output_area\n      output_area._bokeh_element_id = output.metadata[EXEC_MIME_TYPE][\"id\"];\n    }\n    if (output.metadata[EXEC_MIME_TYPE][\"server_id\"] !== undefined) {\n      const bk_div = document.createElement(\"div\");\n      bk_div.innerHTML = output.data[HTML_MIME_TYPE];\n      const script_attrs = bk_div.children[0].attributes;\n      for (let i = 0; i < script_attrs.length; i++) {\n        toinsert[toinsert.length - 1].firstChild.setAttribute(script_attrs[i].name, script_attrs[i].value);\n        toinsert[toinsert.length - 1].firstChild.textContent = bk_div.children[0].textContent\n      }\n      // store reference to server id on output_area\n      output_area._bokeh_server_id = output.metadata[EXEC_MIME_TYPE][\"server_id\"];\n    }\n  }\n\n  function register_renderer(events, OutputArea) {\n\n    function append_mime(data, metadata, element) {\n      // create a DOM node to render to\n      const toinsert = this.create_output_subarea(\n        metadata,\n        CLASS_NAME,\n        EXEC_MIME_TYPE\n      );\n      this.keyboard_manager.register_events(toinsert);\n      // Render to node\n      const props = {data: data, metadata: metadata[EXEC_MIME_TYPE]};\n      render(props, toinsert[toinsert.length - 1]);\n      element.append(toinsert);\n      return toinsert\n    }\n\n    /* Handle when an output is cleared or removed */\n    events.on('clear_output.CodeCell', handleClearOutput);\n    events.on('delete.Cell', handleClearOutput);\n\n    /* Handle when a new output is added */\n    events.on('output_added.OutputArea', handleAddOutput);\n\n    /**\n     * Register the mime type and append_mime function with output_area\n     */\n    OutputArea.prototype.register_mime_type(EXEC_MIME_TYPE, append_mime, {\n      /* Is output safe? */\n      safe: true,\n      /* Index of renderer in `output_area.display_order` */\n      index: 0\n    });\n  }\n\n  // register the mime type if in Jupyter Notebook environment and previously unregistered\n  if (root.Jupyter !== undefined) {\n    const events = require('base/js/events');\n    const OutputArea = require('notebook/js/outputarea').OutputArea;\n\n    if (OutputArea.prototype.mime_types().indexOf(EXEC_MIME_TYPE) == -1) {\n      register_renderer(events, OutputArea);\n    }\n  }\n  if (typeof (root._bokeh_timeout) === \"undefined\" || force === true) {\n    root._bokeh_timeout = Date.now() + 5000;\n    root._bokeh_failed_load = false;\n  }\n\n  const NB_LOAD_WARNING = {'data': {'text/html':\n     \"<div style='background-color: #fdd'>\\n\"+\n     \"<p>\\n\"+\n     \"BokehJS does not appear to have successfully loaded. If loading BokehJS from CDN, this \\n\"+\n     \"may be due to a slow or bad network connection. Possible fixes:\\n\"+\n     \"</p>\\n\"+\n     \"<ul>\\n\"+\n     \"<li>re-rerun `output_notebook()` to attempt to load from CDN again, or</li>\\n\"+\n     \"<li>use INLINE resources instead, as so:</li>\\n\"+\n     \"</ul>\\n\"+\n     \"<code>\\n\"+\n     \"from bokeh.resources import INLINE\\n\"+\n     \"output_notebook(resources=INLINE)\\n\"+\n     \"</code>\\n\"+\n     \"</div>\"}};\n\n  function display_loaded() {\n    const el = document.getElementById(\"f07337bc-fedf-416b-be1d-f5dfa313776d\");\n    if (el != null) {\n      el.textContent = \"BokehJS is loading...\";\n    }\n    if (root.Bokeh !== undefined) {\n      if (el != null) {\n        el.textContent = \"BokehJS \" + root.Bokeh.version + \" successfully loaded.\";\n      }\n    } else if (Date.now() < root._bokeh_timeout) {\n      setTimeout(display_loaded, 100)\n    }\n  }\n\n  function run_callbacks() {\n    try {\n      root._bokeh_onload_callbacks.forEach(function(callback) {\n        if (callback != null)\n          callback();\n      });\n    } finally {\n      delete root._bokeh_onload_callbacks\n    }\n    console.debug(\"Bokeh: all callbacks have finished\");\n  }\n\n  function load_libs(css_urls, js_urls, callback) {\n    if (css_urls == null) css_urls = [];\n    if (js_urls == null) js_urls = [];\n\n    root._bokeh_onload_callbacks.push(callback);\n    if (root._bokeh_is_loading > 0) {\n      console.debug(\"Bokeh: BokehJS is being loaded, scheduling callback at\", now());\n      return null;\n    }\n    if (js_urls == null || js_urls.length === 0) {\n      run_callbacks();\n      return null;\n    }\n    console.debug(\"Bokeh: BokehJS not loaded, scheduling load and callback at\", now());\n    root._bokeh_is_loading = css_urls.length + js_urls.length;\n\n    function on_load() {\n      root._bokeh_is_loading--;\n      if (root._bokeh_is_loading === 0) {\n        console.debug(\"Bokeh: all BokehJS libraries/stylesheets loaded\");\n        run_callbacks()\n      }\n    }\n\n    function on_error(url) {\n      console.error(\"failed to load \" + url);\n    }\n\n    for (let i = 0; i < css_urls.length; i++) {\n      const url = css_urls[i];\n      const element = document.createElement(\"link\");\n      element.onload = on_load;\n      element.onerror = on_error.bind(null, url);\n      element.rel = \"stylesheet\";\n      element.type = \"text/css\";\n      element.href = url;\n      console.debug(\"Bokeh: injecting link tag for BokehJS stylesheet: \", url);\n      document.body.appendChild(element);\n    }\n\n    for (let i = 0; i < js_urls.length; i++) {\n      const url = js_urls[i];\n      const element = document.createElement('script');\n      element.onload = on_load;\n      element.onerror = on_error.bind(null, url);\n      element.async = false;\n      element.src = url;\n      console.debug(\"Bokeh: injecting script tag for BokehJS library: \", url);\n      document.head.appendChild(element);\n    }\n  };\n\n  function inject_raw_css(css) {\n    const element = document.createElement(\"style\");\n    element.appendChild(document.createTextNode(css));\n    document.body.appendChild(element);\n  }\n\n  const js_urls = [\"https://cdn.bokeh.org/bokeh/release/bokeh-3.1.1.min.js\", \"https://cdn.bokeh.org/bokeh/release/bokeh-gl-3.1.1.min.js\", \"https://cdn.bokeh.org/bokeh/release/bokeh-widgets-3.1.1.min.js\", \"https://cdn.bokeh.org/bokeh/release/bokeh-tables-3.1.1.min.js\", \"https://cdn.bokeh.org/bokeh/release/bokeh-mathjax-3.1.1.min.js\"];\n  const css_urls = [];\n\n  const inline_js = [    function(Bokeh) {\n      Bokeh.set_log_level(\"info\");\n    },\nfunction(Bokeh) {\n    }\n  ];\n\n  function run_inline_js() {\n    if (root.Bokeh !== undefined || force === true) {\n          for (let i = 0; i < inline_js.length; i++) {\n      inline_js[i].call(root, root.Bokeh);\n    }\nif (force === true) {\n        display_loaded();\n      }} else if (Date.now() < root._bokeh_timeout) {\n      setTimeout(run_inline_js, 100);\n    } else if (!root._bokeh_failed_load) {\n      console.log(\"Bokeh: BokehJS failed to load within specified timeout.\");\n      root._bokeh_failed_load = true;\n    } else if (force !== true) {\n      const cell = $(document.getElementById(\"f07337bc-fedf-416b-be1d-f5dfa313776d\")).parents('.cell').data().cell;\n      cell.output_area.append_execute_result(NB_LOAD_WARNING)\n    }\n  }\n\n  if (root._bokeh_is_loading === 0) {\n    console.debug(\"Bokeh: BokehJS loaded, going straight to plotting\");\n    run_inline_js();\n  } else {\n    load_libs(css_urls, js_urls, function() {\n      console.debug(\"Bokeh: BokehJS plotting callback run at\", now());\n      run_inline_js();\n    });\n  }\n}(window));",
      "application/vnd.bokehjs_load.v0+json": ""
     },
     "metadata": {},
     "output_type": "display_data"
    }
   ],
   "source": [
    "import pandas as pd\n",
    "import altair as alt\n",
    "from bokeh.plotting import figure, show\n",
    "from bokeh.io import output_notebook\n",
    "from bokeh.models import ColumnDataSource\n",
    "output_notebook()"
   ]
  },
  {
   "cell_type": "code",
   "execution_count": 2,
   "metadata": {
    "tags": [
     "remove-cell"
    ]
   },
   "outputs": [],
   "source": [
    "df = pd.read_pickle('../../tidy2022.pkl.gz')"
   ]
  },
  {
   "attachments": {},
   "cell_type": "markdown",
   "metadata": {},
   "source": [
    "## 数据集\n",
    "\n",
    "利用`akshare`的业绩报告模块和`tushare`的公司信息，下载全部上市公司自2010年起的业绩报告。\n",
    "\n",
    "业绩报告包含的信息："
   ]
  },
  {
   "cell_type": "code",
   "execution_count": 3,
   "metadata": {
    "tags": [
     "remove-input"
    ]
   },
   "outputs": [],
   "source": [
    "def showProfile(df) :\n",
    "    col_profile = pd.concat([df.dtypes, df.isna().sum()/len(df)*100, df.sample().T], axis=1 ).reset_index()\n",
    "    col_profile.columns = ['列名', '类型', '缺失比%','样例']\n",
    "    \n",
    "    return (col_profile)\n"
   ]
  },
  {
   "cell_type": "code",
   "execution_count": 4,
   "metadata": {
    "tags": [
     "remove-input"
    ]
   },
   "outputs": [
    {
     "data": {
      "text/html": [
       "<div>\n",
       "<style scoped>\n",
       "    .dataframe tbody tr th:only-of-type {\n",
       "        vertical-align: middle;\n",
       "    }\n",
       "\n",
       "    .dataframe tbody tr th {\n",
       "        vertical-align: top;\n",
       "    }\n",
       "\n",
       "    .dataframe thead th {\n",
       "        text-align: right;\n",
       "    }\n",
       "</style>\n",
       "<table border=\"1\" class=\"dataframe\">\n",
       "  <thead>\n",
       "    <tr style=\"text-align: right;\">\n",
       "      <th></th>\n",
       "      <th>列名</th>\n",
       "      <th>类型</th>\n",
       "      <th>缺失比%</th>\n",
       "      <th>样例</th>\n",
       "    </tr>\n",
       "  </thead>\n",
       "  <tbody>\n",
       "    <tr>\n",
       "      <th>0</th>\n",
       "      <td>股票代码</td>\n",
       "      <td>object</td>\n",
       "      <td>0.000000</td>\n",
       "      <td>603085</td>\n",
       "    </tr>\n",
       "    <tr>\n",
       "      <th>1</th>\n",
       "      <td>股票简称</td>\n",
       "      <td>object</td>\n",
       "      <td>0.000000</td>\n",
       "      <td>天成自控</td>\n",
       "    </tr>\n",
       "    <tr>\n",
       "      <th>2</th>\n",
       "      <td>每股收益</td>\n",
       "      <td>float64</td>\n",
       "      <td>1.772489</td>\n",
       "      <td>0.08</td>\n",
       "    </tr>\n",
       "    <tr>\n",
       "      <th>3</th>\n",
       "      <td>营业收入-营业收入</td>\n",
       "      <td>float64</td>\n",
       "      <td>0.188974</td>\n",
       "      <td>1116288278.28</td>\n",
       "    </tr>\n",
       "    <tr>\n",
       "      <th>4</th>\n",
       "      <td>净利润-净利润</td>\n",
       "      <td>float64</td>\n",
       "      <td>0.026506</td>\n",
       "      <td>28594649.9</td>\n",
       "    </tr>\n",
       "    <tr>\n",
       "      <th>5</th>\n",
       "      <td>每股净资产</td>\n",
       "      <td>float64</td>\n",
       "      <td>4.812289</td>\n",
       "      <td>3.04879</td>\n",
       "    </tr>\n",
       "    <tr>\n",
       "      <th>6</th>\n",
       "      <td>净资产收益率</td>\n",
       "      <td>float64</td>\n",
       "      <td>2.447307</td>\n",
       "      <td>2.6</td>\n",
       "    </tr>\n",
       "    <tr>\n",
       "      <th>7</th>\n",
       "      <td>每股经营现金流量</td>\n",
       "      <td>float64</td>\n",
       "      <td>4.056393</td>\n",
       "      <td>0.290983</td>\n",
       "    </tr>\n",
       "    <tr>\n",
       "      <th>8</th>\n",
       "      <td>销售毛利率</td>\n",
       "      <td>float64</td>\n",
       "      <td>2.401467</td>\n",
       "      <td>19.524311</td>\n",
       "    </tr>\n",
       "    <tr>\n",
       "      <th>9</th>\n",
       "      <td>最新公告日期</td>\n",
       "      <td>object</td>\n",
       "      <td>0.000000</td>\n",
       "      <td>2022-10-31</td>\n",
       "    </tr>\n",
       "    <tr>\n",
       "      <th>10</th>\n",
       "      <td>qs</td>\n",
       "      <td>object</td>\n",
       "      <td>0.000000</td>\n",
       "      <td>20220930</td>\n",
       "    </tr>\n",
       "    <tr>\n",
       "      <th>11</th>\n",
       "      <td>symbol</td>\n",
       "      <td>object</td>\n",
       "      <td>39.349006</td>\n",
       "      <td>603085</td>\n",
       "    </tr>\n",
       "    <tr>\n",
       "      <th>12</th>\n",
       "      <td>area</td>\n",
       "      <td>object</td>\n",
       "      <td>40.849572</td>\n",
       "      <td>浙江</td>\n",
       "    </tr>\n",
       "    <tr>\n",
       "      <th>13</th>\n",
       "      <td>industry</td>\n",
       "      <td>object</td>\n",
       "      <td>40.849572</td>\n",
       "      <td>汽车配件</td>\n",
       "    </tr>\n",
       "    <tr>\n",
       "      <th>14</th>\n",
       "      <td>market</td>\n",
       "      <td>object</td>\n",
       "      <td>0.000000</td>\n",
       "      <td>主板</td>\n",
       "    </tr>\n",
       "    <tr>\n",
       "      <th>15</th>\n",
       "      <td>exchange</td>\n",
       "      <td>object</td>\n",
       "      <td>0.000000</td>\n",
       "      <td>SSE</td>\n",
       "    </tr>\n",
       "    <tr>\n",
       "      <th>16</th>\n",
       "      <td>list_status</td>\n",
       "      <td>object</td>\n",
       "      <td>39.349006</td>\n",
       "      <td>L</td>\n",
       "    </tr>\n",
       "    <tr>\n",
       "      <th>17</th>\n",
       "      <td>list_date</td>\n",
       "      <td>object</td>\n",
       "      <td>39.349006</td>\n",
       "      <td>20150630</td>\n",
       "    </tr>\n",
       "    <tr>\n",
       "      <th>18</th>\n",
       "      <td>delist_date</td>\n",
       "      <td>float64</td>\n",
       "      <td>100.000000</td>\n",
       "      <td>NaN</td>\n",
       "    </tr>\n",
       "    <tr>\n",
       "      <th>19</th>\n",
       "      <td>is_hs</td>\n",
       "      <td>object</td>\n",
       "      <td>39.354619</td>\n",
       "      <td>N</td>\n",
       "    </tr>\n",
       "    <tr>\n",
       "      <th>20</th>\n",
       "      <td>Year</td>\n",
       "      <td>object</td>\n",
       "      <td>0.000000</td>\n",
       "      <td>2022</td>\n",
       "    </tr>\n",
       "    <tr>\n",
       "      <th>21</th>\n",
       "      <td>Quarter</td>\n",
       "      <td>object</td>\n",
       "      <td>0.000000</td>\n",
       "      <td>Q3</td>\n",
       "    </tr>\n",
       "  </tbody>\n",
       "</table>\n",
       "</div>"
      ],
      "text/plain": [
       "             列名       类型        缺失比%             样例\n",
       "0          股票代码   object    0.000000         603085\n",
       "1          股票简称   object    0.000000           天成自控\n",
       "2          每股收益  float64    1.772489           0.08\n",
       "3     营业收入-营业收入  float64    0.188974  1116288278.28\n",
       "4       净利润-净利润  float64    0.026506     28594649.9\n",
       "5         每股净资产  float64    4.812289        3.04879\n",
       "6        净资产收益率  float64    2.447307            2.6\n",
       "7      每股经营现金流量  float64    4.056393       0.290983\n",
       "8         销售毛利率  float64    2.401467      19.524311\n",
       "9        最新公告日期   object    0.000000     2022-10-31\n",
       "10           qs   object    0.000000       20220930\n",
       "11       symbol   object   39.349006         603085\n",
       "12         area   object   40.849572             浙江\n",
       "13     industry   object   40.849572           汽车配件\n",
       "14       market   object    0.000000             主板\n",
       "15     exchange   object    0.000000            SSE\n",
       "16  list_status   object   39.349006              L\n",
       "17    list_date   object   39.349006       20150630\n",
       "18  delist_date  float64  100.000000            NaN\n",
       "19        is_hs   object   39.354619              N\n",
       "20         Year   object    0.000000           2022\n",
       "21      Quarter   object    0.000000             Q3"
      ]
     },
     "execution_count": 4,
     "metadata": {},
     "output_type": "execute_result"
    }
   ],
   "source": [
    "showProfile(df)"
   ]
  },
  {
   "attachments": {},
   "cell_type": "markdown",
   "metadata": {},
   "source": [
    "初步分析此数据集，有如下观点：\n",
    "\n",
    "- 数据包括了披露业绩的新三板公司。但因为没有其基本信息，所以有些列缺少数据。\n",
    "- 最后一列时报告期，检视数据时发现2010年的报告期和公告日期有矛盾，但数据集尾部数据正常。\n",
    "- 净利润和营业收入的缺失值极少，应该不影响大局。\n",
    "- 净资产收益率缺乏率2.5%，考虑使用。\n",
    "- 行业缺乏率超过37%，不能用。考虑将新三板的数据去除后使用。"
   ]
  },
  {
   "attachments": {},
   "cell_type": "markdown",
   "metadata": {},
   "source": [
    "## 上市公司数量分析\n",
    "\n",
    "- 广义上的上市公司包括了新三板的公司，但一般还是指在北上深交易股票的公司。"
   ]
  },
  {
   "cell_type": "code",
   "execution_count": 13,
   "metadata": {
    "tags": [
     "remove-cell"
    ]
   },
   "outputs": [],
   "source": [
    "cols = df.columns\n",
    "s_num = df[df.Quarter == 'Q4'].groupby(['Year'])[cols[0]].count()\n"
   ]
  },
  {
   "cell_type": "code",
   "execution_count": 34,
   "metadata": {
    "tags": [
     "remove-input"
    ]
   },
   "outputs": [
    {
     "data": {
      "text/html": [
       "\n",
       "<style>\n",
       "  #altair-viz-d9a8dc7cfd2743ee95ab237f084bf70f.vega-embed {\n",
       "    width: 100%;\n",
       "    display: flex;\n",
       "  }\n",
       "\n",
       "  #altair-viz-d9a8dc7cfd2743ee95ab237f084bf70f.vega-embed details,\n",
       "  #altair-viz-d9a8dc7cfd2743ee95ab237f084bf70f.vega-embed details summary {\n",
       "    position: relative;\n",
       "  }\n",
       "</style>\n",
       "<div id=\"altair-viz-d9a8dc7cfd2743ee95ab237f084bf70f\"></div>\n",
       "<script type=\"text/javascript\">\n",
       "  var VEGA_DEBUG = (typeof VEGA_DEBUG == \"undefined\") ? {} : VEGA_DEBUG;\n",
       "  (function(spec, embedOpt){\n",
       "    let outputDiv = document.currentScript.previousElementSibling;\n",
       "    if (outputDiv.id !== \"altair-viz-d9a8dc7cfd2743ee95ab237f084bf70f\") {\n",
       "      outputDiv = document.getElementById(\"altair-viz-d9a8dc7cfd2743ee95ab237f084bf70f\");\n",
       "    }\n",
       "    const paths = {\n",
       "      \"vega\": \"https://cdn.jsdelivr.net/npm/vega@5?noext\",\n",
       "      \"vega-lib\": \"https://cdn.jsdelivr.net/npm/vega-lib?noext\",\n",
       "      \"vega-lite\": \"https://cdn.jsdelivr.net/npm/vega-lite@5.8.0?noext\",\n",
       "      \"vega-embed\": \"https://cdn.jsdelivr.net/npm/vega-embed@6?noext\",\n",
       "    };\n",
       "\n",
       "    function maybeLoadScript(lib, version) {\n",
       "      var key = `${lib.replace(\"-\", \"\")}_version`;\n",
       "      return (VEGA_DEBUG[key] == version) ?\n",
       "        Promise.resolve(paths[lib]) :\n",
       "        new Promise(function(resolve, reject) {\n",
       "          var s = document.createElement('script');\n",
       "          document.getElementsByTagName(\"head\")[0].appendChild(s);\n",
       "          s.async = true;\n",
       "          s.onload = () => {\n",
       "            VEGA_DEBUG[key] = version;\n",
       "            return resolve(paths[lib]);\n",
       "          };\n",
       "          s.onerror = () => reject(`Error loading script: ${paths[lib]}`);\n",
       "          s.src = paths[lib];\n",
       "        });\n",
       "    }\n",
       "\n",
       "    function showError(err) {\n",
       "      outputDiv.innerHTML = `<div class=\"error\" style=\"color:red;\">${err}</div>`;\n",
       "      throw err;\n",
       "    }\n",
       "\n",
       "    function displayChart(vegaEmbed) {\n",
       "      vegaEmbed(outputDiv, spec, embedOpt)\n",
       "        .catch(err => showError(`Javascript Error: ${err.message}<br>This usually means there's a typo in your chart specification. See the javascript console for the full traceback.`));\n",
       "    }\n",
       "\n",
       "    if(typeof define === \"function\" && define.amd) {\n",
       "      requirejs.config({paths});\n",
       "      require([\"vega-embed\"], displayChart, err => showError(`Error loading script: ${err.message}`));\n",
       "    } else {\n",
       "      maybeLoadScript(\"vega\", \"5\")\n",
       "        .then(() => maybeLoadScript(\"vega-lite\", \"5.8.0\"))\n",
       "        .then(() => maybeLoadScript(\"vega-embed\", \"6\"))\n",
       "        .catch(showError)\n",
       "        .then(() => displayChart(vegaEmbed));\n",
       "    }\n",
       "  })({\"config\": {\"view\": {\"continuousWidth\": 300, \"continuousHeight\": 300}}, \"layer\": [{\"mark\": {\"type\": \"bar\"}, \"encoding\": {\"x\": {\"field\": \"Num\", \"type\": \"quantitative\"}, \"y\": {\"field\": \"Year\", \"type\": \"nominal\"}}, \"title\": \"\\u4e0a\\u5e02\\u516c\\u53f8\\u6570\\u91cf\\u53d8\\u5316\\uff08\\u542b\\u65b0\\u4e09\\u677f\\uff09\"}, {\"mark\": {\"type\": \"text\", \"align\": \"right\", \"color\": \"white\", \"dx\": -2}, \"encoding\": {\"text\": {\"field\": \"Num\", \"type\": \"quantitative\"}, \"x\": {\"field\": \"Num\", \"type\": \"quantitative\"}, \"y\": {\"field\": \"Year\", \"type\": \"nominal\"}}, \"title\": \"\\u4e0a\\u5e02\\u516c\\u53f8\\u6570\\u91cf\\u53d8\\u5316\\uff08\\u542b\\u65b0\\u4e09\\u677f\\uff09\"}], \"data\": {\"name\": \"data-935bf1ef5e561b26c72110c5209f9d61\"}, \"width\": \"container\", \"$schema\": \"https://vega.github.io/schema/vega-lite/v5.8.0.json\", \"datasets\": {\"data-935bf1ef5e561b26c72110c5209f9d61\": [{\"Year\": \"2010\", \"Num\": 2998}, {\"Year\": \"2011\", \"Num\": 3855}, {\"Year\": \"2012\", \"Num\": 5139}, {\"Year\": \"2013\", \"Num\": 7652}, {\"Year\": \"2014\", \"Num\": 9517}, {\"Year\": \"2015\", \"Num\": 10177}, {\"Year\": \"2016\", \"Num\": 10735}, {\"Year\": \"2017\", \"Num\": 11175}, {\"Year\": \"2018\", \"Num\": 11502}, {\"Year\": \"2019\", \"Num\": 11624}, {\"Year\": \"2020\", \"Num\": 11875}, {\"Year\": \"2021\", \"Num\": 11860}, {\"Year\": \"2022\", \"Num\": 11565}]}}, {\"mode\": \"vega-lite\"});\n",
       "</script>"
      ],
      "text/plain": [
       "alt.LayerChart(...)"
      ]
     },
     "execution_count": 34,
     "metadata": {},
     "output_type": "execute_result"
    }
   ],
   "source": [
    "d_num = s_num.to_frame(name='Num').reset_index()\n",
    "\n",
    "def plot_hbar(df, x, y, title):\n",
    "\n",
    "    base = alt.Chart(df).mark_bar().encode(\n",
    "        x=x,\n",
    "        y=y\n",
    "    ).properties(width='container',\n",
    "                 title=title)\n",
    "\n",
    "    text = base.mark_text(align='right', dx=-2, color='white').encode(text=x)\n",
    "\n",
    "    return base+text\n",
    "\n",
    "plot_hbar(d_num, x='Num:Q', y='Year', title='上市公司数量变化（含新三板）')"
   ]
  },
  {
   "attachments": {},
   "cell_type": "markdown",
   "metadata": {},
   "source": [
    "- 感觉上，这数据就不太对头了。2022年上市公司总数减少了？\n",
    "- 查了下新闻，新三板确实有很多摘牌的。但还是很让人怀疑。"
   ]
  },
  {
   "cell_type": "code",
   "execution_count": 37,
   "metadata": {
    "tags": [
     "remove-input"
    ]
   },
   "outputs": [
    {
     "data": {
      "text/html": [
       "\n",
       "<style>\n",
       "  #altair-viz-4ea3d799921540668ae5e2baa0a6cc4a.vega-embed {\n",
       "    width: 100%;\n",
       "    display: flex;\n",
       "  }\n",
       "\n",
       "  #altair-viz-4ea3d799921540668ae5e2baa0a6cc4a.vega-embed details,\n",
       "  #altair-viz-4ea3d799921540668ae5e2baa0a6cc4a.vega-embed details summary {\n",
       "    position: relative;\n",
       "  }\n",
       "</style>\n",
       "<div id=\"altair-viz-4ea3d799921540668ae5e2baa0a6cc4a\"></div>\n",
       "<script type=\"text/javascript\">\n",
       "  var VEGA_DEBUG = (typeof VEGA_DEBUG == \"undefined\") ? {} : VEGA_DEBUG;\n",
       "  (function(spec, embedOpt){\n",
       "    let outputDiv = document.currentScript.previousElementSibling;\n",
       "    if (outputDiv.id !== \"altair-viz-4ea3d799921540668ae5e2baa0a6cc4a\") {\n",
       "      outputDiv = document.getElementById(\"altair-viz-4ea3d799921540668ae5e2baa0a6cc4a\");\n",
       "    }\n",
       "    const paths = {\n",
       "      \"vega\": \"https://cdn.jsdelivr.net/npm/vega@5?noext\",\n",
       "      \"vega-lib\": \"https://cdn.jsdelivr.net/npm/vega-lib?noext\",\n",
       "      \"vega-lite\": \"https://cdn.jsdelivr.net/npm/vega-lite@5.8.0?noext\",\n",
       "      \"vega-embed\": \"https://cdn.jsdelivr.net/npm/vega-embed@6?noext\",\n",
       "    };\n",
       "\n",
       "    function maybeLoadScript(lib, version) {\n",
       "      var key = `${lib.replace(\"-\", \"\")}_version`;\n",
       "      return (VEGA_DEBUG[key] == version) ?\n",
       "        Promise.resolve(paths[lib]) :\n",
       "        new Promise(function(resolve, reject) {\n",
       "          var s = document.createElement('script');\n",
       "          document.getElementsByTagName(\"head\")[0].appendChild(s);\n",
       "          s.async = true;\n",
       "          s.onload = () => {\n",
       "            VEGA_DEBUG[key] = version;\n",
       "            return resolve(paths[lib]);\n",
       "          };\n",
       "          s.onerror = () => reject(`Error loading script: ${paths[lib]}`);\n",
       "          s.src = paths[lib];\n",
       "        });\n",
       "    }\n",
       "\n",
       "    function showError(err) {\n",
       "      outputDiv.innerHTML = `<div class=\"error\" style=\"color:red;\">${err}</div>`;\n",
       "      throw err;\n",
       "    }\n",
       "\n",
       "    function displayChart(vegaEmbed) {\n",
       "      vegaEmbed(outputDiv, spec, embedOpt)\n",
       "        .catch(err => showError(`Javascript Error: ${err.message}<br>This usually means there's a typo in your chart specification. See the javascript console for the full traceback.`));\n",
       "    }\n",
       "\n",
       "    if(typeof define === \"function\" && define.amd) {\n",
       "      requirejs.config({paths});\n",
       "      require([\"vega-embed\"], displayChart, err => showError(`Error loading script: ${err.message}`));\n",
       "    } else {\n",
       "      maybeLoadScript(\"vega\", \"5\")\n",
       "        .then(() => maybeLoadScript(\"vega-lite\", \"5.8.0\"))\n",
       "        .then(() => maybeLoadScript(\"vega-embed\", \"6\"))\n",
       "        .catch(showError)\n",
       "        .then(() => displayChart(vegaEmbed));\n",
       "    }\n",
       "  })({\"config\": {\"view\": {\"continuousWidth\": 300, \"continuousHeight\": 300}}, \"layer\": [{\"mark\": {\"type\": \"bar\"}, \"encoding\": {\"x\": {\"field\": \"Num\", \"type\": \"quantitative\"}, \"y\": {\"field\": \"Year\", \"type\": \"nominal\"}}, \"title\": \"\\u4e0a\\u5e02\\u516c\\u53f8\\u6570\\u91cf\\u53d8\\u5316\\uff08\\u4e0d\\u542b\\u65b0\\u4e09\\u677f\\uff09\"}, {\"mark\": {\"type\": \"text\", \"align\": \"right\", \"color\": \"white\", \"dx\": -2}, \"encoding\": {\"text\": {\"field\": \"Num\", \"type\": \"quantitative\"}, \"x\": {\"field\": \"Num\", \"type\": \"quantitative\"}, \"y\": {\"field\": \"Year\", \"type\": \"nominal\"}}, \"title\": \"\\u4e0a\\u5e02\\u516c\\u53f8\\u6570\\u91cf\\u53d8\\u5316\\uff08\\u4e0d\\u542b\\u65b0\\u4e09\\u677f\\uff09\"}], \"data\": {\"name\": \"data-dadedcf79e032110816efe4a3962b6f9\"}, \"width\": \"container\", \"$schema\": \"https://vega.github.io/schema/vega-lite/v5.8.0.json\", \"datasets\": {\"data-dadedcf79e032110816efe4a3962b6f9\": [{\"Year\": \"2010\", \"Num\": 2630}, {\"Year\": \"2011\", \"Num\": 3176}, {\"Year\": \"2012\", \"Num\": 3538}, {\"Year\": \"2013\", \"Num\": 3998}, {\"Year\": \"2014\", \"Num\": 4237}, {\"Year\": \"2015\", \"Num\": 4308}, {\"Year\": \"2016\", \"Num\": 4586}, {\"Year\": \"2017\", \"Num\": 4917}, {\"Year\": \"2018\", \"Num\": 5146}, {\"Year\": \"2019\", \"Num\": 5158}, {\"Year\": \"2020\", \"Num\": 5158}, {\"Year\": \"2021\", \"Num\": 5158}, {\"Year\": \"2022\", \"Num\": 5152}]}}, {\"mode\": \"vega-lite\"});\n",
       "</script>"
      ],
      "text/plain": [
       "alt.LayerChart(...)"
      ]
     },
     "execution_count": 37,
     "metadata": {},
     "output_type": "execute_result"
    }
   ],
   "source": [
    "sel = (df.Quarter == 'Q4') & (df.market != '其它')\n",
    "temp = df[sel].groupby(['Year'])[cols[0]].count().to_frame(name='Num').reset_index()\n",
    "plot_hbar(temp, x='Num:Q', y='Year', title='上市公司数量变化（不含新三板）')"
   ]
  },
  {
   "attachments": {},
   "cell_type": "markdown",
   "metadata": {},
   "source": [
    "- 从上图看这个数据集有问题。前四年的年报数量居然完全一样，这很难相信。\n",
    "- 看来需要重新获得数据。 \n",
    "- 尽管如此，还是可以大致看一下其它数据。"
   ]
  },
  {
   "attachments": {},
   "cell_type": "markdown",
   "metadata": {},
   "source": [
    "## 上市公司利润分析"
   ]
  },
  {
   "cell_type": "code",
   "execution_count": 42,
   "metadata": {
    "tags": [
     "remove-input"
    ]
   },
   "outputs": [
    {
     "data": {
      "text/html": [
       "\n",
       "<style>\n",
       "  #altair-viz-84a57c8c30f845dbbb877766fac0fa30.vega-embed {\n",
       "    width: 100%;\n",
       "    display: flex;\n",
       "  }\n",
       "\n",
       "  #altair-viz-84a57c8c30f845dbbb877766fac0fa30.vega-embed details,\n",
       "  #altair-viz-84a57c8c30f845dbbb877766fac0fa30.vega-embed details summary {\n",
       "    position: relative;\n",
       "  }\n",
       "</style>\n",
       "<div id=\"altair-viz-84a57c8c30f845dbbb877766fac0fa30\"></div>\n",
       "<script type=\"text/javascript\">\n",
       "  var VEGA_DEBUG = (typeof VEGA_DEBUG == \"undefined\") ? {} : VEGA_DEBUG;\n",
       "  (function(spec, embedOpt){\n",
       "    let outputDiv = document.currentScript.previousElementSibling;\n",
       "    if (outputDiv.id !== \"altair-viz-84a57c8c30f845dbbb877766fac0fa30\") {\n",
       "      outputDiv = document.getElementById(\"altair-viz-84a57c8c30f845dbbb877766fac0fa30\");\n",
       "    }\n",
       "    const paths = {\n",
       "      \"vega\": \"https://cdn.jsdelivr.net/npm/vega@5?noext\",\n",
       "      \"vega-lib\": \"https://cdn.jsdelivr.net/npm/vega-lib?noext\",\n",
       "      \"vega-lite\": \"https://cdn.jsdelivr.net/npm/vega-lite@5.8.0?noext\",\n",
       "      \"vega-embed\": \"https://cdn.jsdelivr.net/npm/vega-embed@6?noext\",\n",
       "    };\n",
       "\n",
       "    function maybeLoadScript(lib, version) {\n",
       "      var key = `${lib.replace(\"-\", \"\")}_version`;\n",
       "      return (VEGA_DEBUG[key] == version) ?\n",
       "        Promise.resolve(paths[lib]) :\n",
       "        new Promise(function(resolve, reject) {\n",
       "          var s = document.createElement('script');\n",
       "          document.getElementsByTagName(\"head\")[0].appendChild(s);\n",
       "          s.async = true;\n",
       "          s.onload = () => {\n",
       "            VEGA_DEBUG[key] = version;\n",
       "            return resolve(paths[lib]);\n",
       "          };\n",
       "          s.onerror = () => reject(`Error loading script: ${paths[lib]}`);\n",
       "          s.src = paths[lib];\n",
       "        });\n",
       "    }\n",
       "\n",
       "    function showError(err) {\n",
       "      outputDiv.innerHTML = `<div class=\"error\" style=\"color:red;\">${err}</div>`;\n",
       "      throw err;\n",
       "    }\n",
       "\n",
       "    function displayChart(vegaEmbed) {\n",
       "      vegaEmbed(outputDiv, spec, embedOpt)\n",
       "        .catch(err => showError(`Javascript Error: ${err.message}<br>This usually means there's a typo in your chart specification. See the javascript console for the full traceback.`));\n",
       "    }\n",
       "\n",
       "    if(typeof define === \"function\" && define.amd) {\n",
       "      requirejs.config({paths});\n",
       "      require([\"vega-embed\"], displayChart, err => showError(`Error loading script: ${err.message}`));\n",
       "    } else {\n",
       "      maybeLoadScript(\"vega\", \"5\")\n",
       "        .then(() => maybeLoadScript(\"vega-lite\", \"5.8.0\"))\n",
       "        .then(() => maybeLoadScript(\"vega-embed\", \"6\"))\n",
       "        .catch(showError)\n",
       "        .then(() => displayChart(vegaEmbed));\n",
       "    }\n",
       "  })({\"config\": {\"view\": {\"continuousWidth\": 300, \"continuousHeight\": 300}}, \"layer\": [{\"mark\": {\"type\": \"bar\"}, \"encoding\": {\"x\": {\"aggregate\": \"sum\", \"field\": \"Profit\", \"type\": \"quantitative\"}, \"y\": {\"field\": \"Year\", \"type\": \"nominal\"}}, \"title\": \"Profit move\"}, {\"mark\": {\"type\": \"text\", \"align\": \"right\", \"color\": \"white\", \"dx\": -2}, \"encoding\": {\"text\": {\"aggregate\": \"sum\", \"field\": \"Profit\", \"type\": \"quantitative\"}, \"x\": {\"aggregate\": \"sum\", \"field\": \"Profit\", \"type\": \"quantitative\"}, \"y\": {\"field\": \"Year\", \"type\": \"nominal\"}}, \"title\": \"Profit move\"}], \"data\": {\"name\": \"data-8608be3d95cbd00997038dc1ed0a6196\"}, \"width\": \"container\", \"$schema\": \"https://vega.github.io/schema/vega-lite/v5.8.0.json\", \"datasets\": {\"data-8608be3d95cbd00997038dc1ed0a6196\": [{\"Year\": \"2010\", \"market\": \"\\u4e2d\\u5c0f\\u677f\", \"Profit\": 109864585171.16}, {\"Year\": \"2010\", \"market\": \"\\u4e3b\\u677f\", \"Profit\": 1707198624508.67}, {\"Year\": \"2010\", \"market\": \"\\u5176\\u5b83\", \"Profit\": 39597912800.45}, {\"Year\": \"2010\", \"market\": \"\\u521b\\u4e1a\\u677f\", \"Profit\": 26014089555.98}, {\"Year\": \"2010\", \"market\": \"\\u5317\\u4ea4\\u6240\", \"Profit\": 296112799.86}, {\"Year\": \"2010\", \"market\": \"\\u79d1\\u521b\\u677f\", \"Profit\": 2486291692.34}, {\"Year\": \"2011\", \"market\": \"\\u4e2d\\u5c0f\\u677f\", \"Profit\": 125132092867.22}, {\"Year\": \"2011\", \"market\": \"\\u4e3b\\u677f\", \"Profit\": 2083001298397.8733}, {\"Year\": \"2011\", \"market\": \"\\u5176\\u5b83\", \"Profit\": 46130346810.520004}, {\"Year\": \"2011\", \"market\": \"\\u521b\\u4e1a\\u677f\", \"Profit\": 42146260354.17}, {\"Year\": \"2011\", \"market\": \"\\u5317\\u4ea4\\u6240\", \"Profit\": 290270366.61}, {\"Year\": \"2011\", \"market\": \"\\u79d1\\u521b\\u677f\", \"Profit\": 2759371537.84}, {\"Year\": \"2012\", \"market\": \"\\u4e2d\\u5c0f\\u677f\", \"Profit\": 119292391361.41}, {\"Year\": \"2012\", \"market\": \"\\u4e3b\\u677f\", \"Profit\": 2004999965042.5999}, {\"Year\": \"2012\", \"market\": \"\\u5176\\u5b83\", \"Profit\": 43822317513.020004}, {\"Year\": \"2012\", \"market\": \"\\u521b\\u4e1a\\u677f\", \"Profit\": 44717771612.67}, {\"Year\": \"2012\", \"market\": \"\\u5317\\u4ea4\\u6240\", \"Profit\": 756553212.33}, {\"Year\": \"2012\", \"market\": \"\\u79d1\\u521b\\u677f\", \"Profit\": 1607291290.93}, {\"Year\": \"2013\", \"market\": \"\\u4e2d\\u5c0f\\u677f\", \"Profit\": 130139300275.29}, {\"Year\": \"2013\", \"market\": \"\\u4e3b\\u677f\", \"Profit\": 2322521671495.93}, {\"Year\": \"2013\", \"market\": \"\\u5176\\u5b83\", \"Profit\": 65510521229.28}, {\"Year\": \"2013\", \"market\": \"\\u521b\\u4e1a\\u677f\", \"Profit\": 52066240621.15}, {\"Year\": \"2013\", \"market\": \"\\u5317\\u4ea4\\u6240\", \"Profit\": 1635194286.45}, {\"Year\": \"2013\", \"market\": \"\\u79d1\\u521b\\u677f\", \"Profit\": 3157432260.64}, {\"Year\": \"2014\", \"market\": \"\\u4e2d\\u5c0f\\u677f\", \"Profit\": 160750878837.38998}, {\"Year\": \"2014\", \"market\": \"\\u4e3b\\u677f\", \"Profit\": 2524516895367.8}, {\"Year\": \"2014\", \"market\": \"\\u5176\\u5b83\", \"Profit\": 85841266286.16}, {\"Year\": \"2014\", \"market\": \"\\u521b\\u4e1a\\u677f\", \"Profit\": 67396177967.59}, {\"Year\": \"2014\", \"market\": \"\\u5317\\u4ea4\\u6240\", \"Profit\": 2007670996.04}, {\"Year\": \"2014\", \"market\": \"\\u79d1\\u521b\\u677f\", \"Profit\": 6342609808.83}, {\"Year\": \"2015\", \"market\": \"\\u4e2d\\u5c0f\\u677f\", \"Profit\": 192156717484.29}, {\"Year\": \"2015\", \"market\": \"\\u4e3b\\u677f\", \"Profit\": 2599605937200.54}, {\"Year\": \"2015\", \"market\": \"\\u5176\\u5b83\", \"Profit\": 100966538968.31}, {\"Year\": \"2015\", \"market\": \"\\u521b\\u4e1a\\u677f\", \"Profit\": 84606326523.61}, {\"Year\": \"2015\", \"market\": \"\\u5317\\u4ea4\\u6240\", \"Profit\": 2919853590.95}, {\"Year\": \"2015\", \"market\": \"\\u79d1\\u521b\\u677f\", \"Profit\": 7929945068.7300005}, {\"Year\": \"2016\", \"market\": \"CDR\", \"Profit\": -157604169.82}, {\"Year\": \"2016\", \"market\": \"\\u4e2d\\u5c0f\\u677f\", \"Profit\": 242537758736.51}, {\"Year\": \"2016\", \"market\": \"\\u4e3b\\u677f\", \"Profit\": 2693851070897.3}, {\"Year\": \"2016\", \"market\": \"\\u5176\\u5b83\", \"Profit\": 112771314846.44}, {\"Year\": \"2016\", \"market\": \"\\u521b\\u4e1a\\u677f\", \"Profit\": 121777438996.54}, {\"Year\": \"2016\", \"market\": \"\\u5317\\u4ea4\\u6240\", \"Profit\": 4185707234.93}, {\"Year\": \"2016\", \"market\": \"\\u79d1\\u521b\\u677f\", \"Profit\": 14025072686.43}, {\"Year\": \"2017\", \"market\": \"CDR\", \"Profit\": -627117471.97}, {\"Year\": \"2017\", \"market\": \"\\u4e2d\\u5c0f\\u677f\", \"Profit\": 297455682650.18}, {\"Year\": \"2017\", \"market\": \"\\u4e3b\\u677f\", \"Profit\": 3240731136630.16}, {\"Year\": \"2017\", \"market\": \"\\u5176\\u5b83\", \"Profit\": 99545694780.27}, {\"Year\": \"2017\", \"market\": \"\\u521b\\u4e1a\\u677f\", \"Profit\": 145924729722.43}, {\"Year\": \"2017\", \"market\": \"\\u5317\\u4ea4\\u6240\", \"Profit\": 5531249489.48}, {\"Year\": \"2017\", \"market\": \"\\u79d1\\u521b\\u677f\", \"Profit\": 23182392537.7}, {\"Year\": \"2018\", \"market\": \"CDR\", \"Profit\": -1803959902.82}, {\"Year\": \"2018\", \"market\": \"\\u4e2d\\u5c0f\\u677f\", \"Profit\": 227861485743.83}, {\"Year\": \"2018\", \"market\": \"\\u4e3b\\u677f\", \"Profit\": 3591629046617.11}, {\"Year\": \"2018\", \"market\": \"\\u5176\\u5b83\", \"Profit\": -1077718285.4599993}, {\"Year\": \"2018\", \"market\": \"\\u521b\\u4e1a\\u677f\", \"Profit\": 93885656364.47}, {\"Year\": \"2018\", \"market\": \"\\u5317\\u4ea4\\u6240\", \"Profit\": 6178653329.08}, {\"Year\": \"2018\", \"market\": \"\\u79d1\\u521b\\u677f\", \"Profit\": 25964603195.48}, {\"Year\": \"2019\", \"market\": \"CDR\", \"Profit\": -454848978.69}, {\"Year\": \"2019\", \"market\": \"\\u4e2d\\u5c0f\\u677f\", \"Profit\": 227080452908.62}, {\"Year\": \"2019\", \"market\": \"\\u4e3b\\u677f\", \"Profit\": 3845226111523.75}, {\"Year\": \"2019\", \"market\": \"\\u5176\\u5b83\", \"Profit\": -29389707171.1}, {\"Year\": \"2019\", \"market\": \"\\u521b\\u4e1a\\u677f\", \"Profit\": 128941702799.28}, {\"Year\": \"2019\", \"market\": \"\\u5317\\u4ea4\\u6240\", \"Profit\": 7329489411.84}, {\"Year\": \"2019\", \"market\": \"\\u79d1\\u521b\\u677f\", \"Profit\": 30362542009.46}, {\"Year\": \"2020\", \"market\": \"CDR\", \"Profit\": 73473131.39}, {\"Year\": \"2020\", \"market\": \"\\u4e2d\\u5c0f\\u677f\", \"Profit\": 348068618477.54}, {\"Year\": \"2020\", \"market\": \"\\u4e3b\\u677f\", \"Profit\": 3737506348041.13}, {\"Year\": \"2020\", \"market\": \"\\u5176\\u5b83\", \"Profit\": -86302815008.83}, {\"Year\": \"2020\", \"market\": \"\\u521b\\u4e1a\\u677f\", \"Profit\": 177775111604.31}, {\"Year\": \"2020\", \"market\": \"\\u5317\\u4ea4\\u6240\", \"Profit\": 8924644739.34}, {\"Year\": \"2020\", \"market\": \"\\u79d1\\u521b\\u677f\", \"Profit\": 57247553801.1}, {\"Year\": \"2021\", \"market\": \"CDR\", \"Profit\": 410598753.65}, {\"Year\": \"2021\", \"market\": \"\\u4e2d\\u5c0f\\u677f\", \"Profit\": 270316495426.42}, {\"Year\": \"2021\", \"market\": \"\\u4e3b\\u677f\", \"Profit\": 4553043013096.54}, {\"Year\": \"2021\", \"market\": \"\\u5176\\u5b83\", \"Profit\": 108345850879.76999}, {\"Year\": \"2021\", \"market\": \"\\u521b\\u4e1a\\u677f\", \"Profit\": 215976988557.49}, {\"Year\": \"2021\", \"market\": \"\\u5317\\u4ea4\\u6240\", \"Profit\": 12211929524.42}, {\"Year\": \"2021\", \"market\": \"\\u79d1\\u521b\\u677f\", \"Profit\": 106641872831.81}, {\"Year\": \"2022\", \"market\": \"CDR\", \"Profit\": 450553095.67}, {\"Year\": \"2022\", \"market\": \"\\u4e2d\\u5c0f\\u677f\", \"Profit\": 346207112204.24}, {\"Year\": \"2022\", \"market\": \"\\u4e3b\\u677f\", \"Profit\": 4498976063133.96}, {\"Year\": \"2022\", \"market\": \"\\u5176\\u5b83\", \"Profit\": 53270191499.96001}, {\"Year\": \"2022\", \"market\": \"\\u521b\\u4e1a\\u677f\", \"Profit\": 238831128016.84}, {\"Year\": \"2022\", \"market\": \"\\u5317\\u4ea4\\u6240\", \"Profit\": 13655233688.34}, {\"Year\": \"2022\", \"market\": \"\\u79d1\\u521b\\u677f\", \"Profit\": 112776833178.55}]}}, {\"mode\": \"vega-lite\"});\n",
       "</script>"
      ],
      "text/plain": [
       "alt.LayerChart(...)"
      ]
     },
     "execution_count": 42,
     "metadata": {},
     "output_type": "execute_result"
    }
   ],
   "source": [
    "df_profit = df[df.Quarter == 'Q4'].groupby(['Year', 'market'])[cols[4]].sum().to_frame(name='Profit').reset_index()\n",
    "\n",
    "plot_hbar(df_profit, x='sum(Profit)', y='Year', title='Profit move')"
   ]
  },
  {
   "cell_type": "code",
   "execution_count": 46,
   "metadata": {
    "tags": [
     "remove-cell"
    ]
   },
   "outputs": [],
   "source": [
    "def plot_stack_hbar(df, x, y, title, color):\n",
    "\n",
    "    base = alt.Chart(df).mark_bar().encode(\n",
    "        x=x,\n",
    "        y=y,\n",
    "        color=color\n",
    "    ).properties(width='container',\n",
    "                 title=title)\n",
    "\n",
    "    # text = base.mark_text(align='right', dx=-2, color='white').encode(text=x)\n",
    "\n",
    "    return base"
   ]
  },
  {
   "cell_type": "code",
   "execution_count": 47,
   "metadata": {
    "tags": [
     "remove-input"
    ]
   },
   "outputs": [
    {
     "data": {
      "text/html": [
       "\n",
       "<style>\n",
       "  #altair-viz-763929c9a0e1413295edd49d9472a675.vega-embed {\n",
       "    width: 100%;\n",
       "    display: flex;\n",
       "  }\n",
       "\n",
       "  #altair-viz-763929c9a0e1413295edd49d9472a675.vega-embed details,\n",
       "  #altair-viz-763929c9a0e1413295edd49d9472a675.vega-embed details summary {\n",
       "    position: relative;\n",
       "  }\n",
       "</style>\n",
       "<div id=\"altair-viz-763929c9a0e1413295edd49d9472a675\"></div>\n",
       "<script type=\"text/javascript\">\n",
       "  var VEGA_DEBUG = (typeof VEGA_DEBUG == \"undefined\") ? {} : VEGA_DEBUG;\n",
       "  (function(spec, embedOpt){\n",
       "    let outputDiv = document.currentScript.previousElementSibling;\n",
       "    if (outputDiv.id !== \"altair-viz-763929c9a0e1413295edd49d9472a675\") {\n",
       "      outputDiv = document.getElementById(\"altair-viz-763929c9a0e1413295edd49d9472a675\");\n",
       "    }\n",
       "    const paths = {\n",
       "      \"vega\": \"https://cdn.jsdelivr.net/npm/vega@5?noext\",\n",
       "      \"vega-lib\": \"https://cdn.jsdelivr.net/npm/vega-lib?noext\",\n",
       "      \"vega-lite\": \"https://cdn.jsdelivr.net/npm/vega-lite@5.8.0?noext\",\n",
       "      \"vega-embed\": \"https://cdn.jsdelivr.net/npm/vega-embed@6?noext\",\n",
       "    };\n",
       "\n",
       "    function maybeLoadScript(lib, version) {\n",
       "      var key = `${lib.replace(\"-\", \"\")}_version`;\n",
       "      return (VEGA_DEBUG[key] == version) ?\n",
       "        Promise.resolve(paths[lib]) :\n",
       "        new Promise(function(resolve, reject) {\n",
       "          var s = document.createElement('script');\n",
       "          document.getElementsByTagName(\"head\")[0].appendChild(s);\n",
       "          s.async = true;\n",
       "          s.onload = () => {\n",
       "            VEGA_DEBUG[key] = version;\n",
       "            return resolve(paths[lib]);\n",
       "          };\n",
       "          s.onerror = () => reject(`Error loading script: ${paths[lib]}`);\n",
       "          s.src = paths[lib];\n",
       "        });\n",
       "    }\n",
       "\n",
       "    function showError(err) {\n",
       "      outputDiv.innerHTML = `<div class=\"error\" style=\"color:red;\">${err}</div>`;\n",
       "      throw err;\n",
       "    }\n",
       "\n",
       "    function displayChart(vegaEmbed) {\n",
       "      vegaEmbed(outputDiv, spec, embedOpt)\n",
       "        .catch(err => showError(`Javascript Error: ${err.message}<br>This usually means there's a typo in your chart specification. See the javascript console for the full traceback.`));\n",
       "    }\n",
       "\n",
       "    if(typeof define === \"function\" && define.amd) {\n",
       "      requirejs.config({paths});\n",
       "      require([\"vega-embed\"], displayChart, err => showError(`Error loading script: ${err.message}`));\n",
       "    } else {\n",
       "      maybeLoadScript(\"vega\", \"5\")\n",
       "        .then(() => maybeLoadScript(\"vega-lite\", \"5.8.0\"))\n",
       "        .then(() => maybeLoadScript(\"vega-embed\", \"6\"))\n",
       "        .catch(showError)\n",
       "        .then(() => displayChart(vegaEmbed));\n",
       "    }\n",
       "  })({\"config\": {\"view\": {\"continuousWidth\": 300, \"continuousHeight\": 300}}, \"data\": {\"name\": \"data-8608be3d95cbd00997038dc1ed0a6196\"}, \"mark\": {\"type\": \"bar\"}, \"encoding\": {\"color\": {\"field\": \"market\", \"type\": \"nominal\"}, \"x\": {\"aggregate\": \"sum\", \"field\": \"Profit\", \"type\": \"quantitative\"}, \"y\": {\"field\": \"Year\", \"type\": \"nominal\"}}, \"title\": \"Profit move\", \"width\": \"container\", \"$schema\": \"https://vega.github.io/schema/vega-lite/v5.8.0.json\", \"datasets\": {\"data-8608be3d95cbd00997038dc1ed0a6196\": [{\"Year\": \"2010\", \"market\": \"\\u4e2d\\u5c0f\\u677f\", \"Profit\": 109864585171.16}, {\"Year\": \"2010\", \"market\": \"\\u4e3b\\u677f\", \"Profit\": 1707198624508.67}, {\"Year\": \"2010\", \"market\": \"\\u5176\\u5b83\", \"Profit\": 39597912800.45}, {\"Year\": \"2010\", \"market\": \"\\u521b\\u4e1a\\u677f\", \"Profit\": 26014089555.98}, {\"Year\": \"2010\", \"market\": \"\\u5317\\u4ea4\\u6240\", \"Profit\": 296112799.86}, {\"Year\": \"2010\", \"market\": \"\\u79d1\\u521b\\u677f\", \"Profit\": 2486291692.34}, {\"Year\": \"2011\", \"market\": \"\\u4e2d\\u5c0f\\u677f\", \"Profit\": 125132092867.22}, {\"Year\": \"2011\", \"market\": \"\\u4e3b\\u677f\", \"Profit\": 2083001298397.8733}, {\"Year\": \"2011\", \"market\": \"\\u5176\\u5b83\", \"Profit\": 46130346810.520004}, {\"Year\": \"2011\", \"market\": \"\\u521b\\u4e1a\\u677f\", \"Profit\": 42146260354.17}, {\"Year\": \"2011\", \"market\": \"\\u5317\\u4ea4\\u6240\", \"Profit\": 290270366.61}, {\"Year\": \"2011\", \"market\": \"\\u79d1\\u521b\\u677f\", \"Profit\": 2759371537.84}, {\"Year\": \"2012\", \"market\": \"\\u4e2d\\u5c0f\\u677f\", \"Profit\": 119292391361.41}, {\"Year\": \"2012\", \"market\": \"\\u4e3b\\u677f\", \"Profit\": 2004999965042.5999}, {\"Year\": \"2012\", \"market\": \"\\u5176\\u5b83\", \"Profit\": 43822317513.020004}, {\"Year\": \"2012\", \"market\": \"\\u521b\\u4e1a\\u677f\", \"Profit\": 44717771612.67}, {\"Year\": \"2012\", \"market\": \"\\u5317\\u4ea4\\u6240\", \"Profit\": 756553212.33}, {\"Year\": \"2012\", \"market\": \"\\u79d1\\u521b\\u677f\", \"Profit\": 1607291290.93}, {\"Year\": \"2013\", \"market\": \"\\u4e2d\\u5c0f\\u677f\", \"Profit\": 130139300275.29}, {\"Year\": \"2013\", \"market\": \"\\u4e3b\\u677f\", \"Profit\": 2322521671495.93}, {\"Year\": \"2013\", \"market\": \"\\u5176\\u5b83\", \"Profit\": 65510521229.28}, {\"Year\": \"2013\", \"market\": \"\\u521b\\u4e1a\\u677f\", \"Profit\": 52066240621.15}, {\"Year\": \"2013\", \"market\": \"\\u5317\\u4ea4\\u6240\", \"Profit\": 1635194286.45}, {\"Year\": \"2013\", \"market\": \"\\u79d1\\u521b\\u677f\", \"Profit\": 3157432260.64}, {\"Year\": \"2014\", \"market\": \"\\u4e2d\\u5c0f\\u677f\", \"Profit\": 160750878837.38998}, {\"Year\": \"2014\", \"market\": \"\\u4e3b\\u677f\", \"Profit\": 2524516895367.8}, {\"Year\": \"2014\", \"market\": \"\\u5176\\u5b83\", \"Profit\": 85841266286.16}, {\"Year\": \"2014\", \"market\": \"\\u521b\\u4e1a\\u677f\", \"Profit\": 67396177967.59}, {\"Year\": \"2014\", \"market\": \"\\u5317\\u4ea4\\u6240\", \"Profit\": 2007670996.04}, {\"Year\": \"2014\", \"market\": \"\\u79d1\\u521b\\u677f\", \"Profit\": 6342609808.83}, {\"Year\": \"2015\", \"market\": \"\\u4e2d\\u5c0f\\u677f\", \"Profit\": 192156717484.29}, {\"Year\": \"2015\", \"market\": \"\\u4e3b\\u677f\", \"Profit\": 2599605937200.54}, {\"Year\": \"2015\", \"market\": \"\\u5176\\u5b83\", \"Profit\": 100966538968.31}, {\"Year\": \"2015\", \"market\": \"\\u521b\\u4e1a\\u677f\", \"Profit\": 84606326523.61}, {\"Year\": \"2015\", \"market\": \"\\u5317\\u4ea4\\u6240\", \"Profit\": 2919853590.95}, {\"Year\": \"2015\", \"market\": \"\\u79d1\\u521b\\u677f\", \"Profit\": 7929945068.7300005}, {\"Year\": \"2016\", \"market\": \"CDR\", \"Profit\": -157604169.82}, {\"Year\": \"2016\", \"market\": \"\\u4e2d\\u5c0f\\u677f\", \"Profit\": 242537758736.51}, {\"Year\": \"2016\", \"market\": \"\\u4e3b\\u677f\", \"Profit\": 2693851070897.3}, {\"Year\": \"2016\", \"market\": \"\\u5176\\u5b83\", \"Profit\": 112771314846.44}, {\"Year\": \"2016\", \"market\": \"\\u521b\\u4e1a\\u677f\", \"Profit\": 121777438996.54}, {\"Year\": \"2016\", \"market\": \"\\u5317\\u4ea4\\u6240\", \"Profit\": 4185707234.93}, {\"Year\": \"2016\", \"market\": \"\\u79d1\\u521b\\u677f\", \"Profit\": 14025072686.43}, {\"Year\": \"2017\", \"market\": \"CDR\", \"Profit\": -627117471.97}, {\"Year\": \"2017\", \"market\": \"\\u4e2d\\u5c0f\\u677f\", \"Profit\": 297455682650.18}, {\"Year\": \"2017\", \"market\": \"\\u4e3b\\u677f\", \"Profit\": 3240731136630.16}, {\"Year\": \"2017\", \"market\": \"\\u5176\\u5b83\", \"Profit\": 99545694780.27}, {\"Year\": \"2017\", \"market\": \"\\u521b\\u4e1a\\u677f\", \"Profit\": 145924729722.43}, {\"Year\": \"2017\", \"market\": \"\\u5317\\u4ea4\\u6240\", \"Profit\": 5531249489.48}, {\"Year\": \"2017\", \"market\": \"\\u79d1\\u521b\\u677f\", \"Profit\": 23182392537.7}, {\"Year\": \"2018\", \"market\": \"CDR\", \"Profit\": -1803959902.82}, {\"Year\": \"2018\", \"market\": \"\\u4e2d\\u5c0f\\u677f\", \"Profit\": 227861485743.83}, {\"Year\": \"2018\", \"market\": \"\\u4e3b\\u677f\", \"Profit\": 3591629046617.11}, {\"Year\": \"2018\", \"market\": \"\\u5176\\u5b83\", \"Profit\": -1077718285.4599993}, {\"Year\": \"2018\", \"market\": \"\\u521b\\u4e1a\\u677f\", \"Profit\": 93885656364.47}, {\"Year\": \"2018\", \"market\": \"\\u5317\\u4ea4\\u6240\", \"Profit\": 6178653329.08}, {\"Year\": \"2018\", \"market\": \"\\u79d1\\u521b\\u677f\", \"Profit\": 25964603195.48}, {\"Year\": \"2019\", \"market\": \"CDR\", \"Profit\": -454848978.69}, {\"Year\": \"2019\", \"market\": \"\\u4e2d\\u5c0f\\u677f\", \"Profit\": 227080452908.62}, {\"Year\": \"2019\", \"market\": \"\\u4e3b\\u677f\", \"Profit\": 3845226111523.75}, {\"Year\": \"2019\", \"market\": \"\\u5176\\u5b83\", \"Profit\": -29389707171.1}, {\"Year\": \"2019\", \"market\": \"\\u521b\\u4e1a\\u677f\", \"Profit\": 128941702799.28}, {\"Year\": \"2019\", \"market\": \"\\u5317\\u4ea4\\u6240\", \"Profit\": 7329489411.84}, {\"Year\": \"2019\", \"market\": \"\\u79d1\\u521b\\u677f\", \"Profit\": 30362542009.46}, {\"Year\": \"2020\", \"market\": \"CDR\", \"Profit\": 73473131.39}, {\"Year\": \"2020\", \"market\": \"\\u4e2d\\u5c0f\\u677f\", \"Profit\": 348068618477.54}, {\"Year\": \"2020\", \"market\": \"\\u4e3b\\u677f\", \"Profit\": 3737506348041.13}, {\"Year\": \"2020\", \"market\": \"\\u5176\\u5b83\", \"Profit\": -86302815008.83}, {\"Year\": \"2020\", \"market\": \"\\u521b\\u4e1a\\u677f\", \"Profit\": 177775111604.31}, {\"Year\": \"2020\", \"market\": \"\\u5317\\u4ea4\\u6240\", \"Profit\": 8924644739.34}, {\"Year\": \"2020\", \"market\": \"\\u79d1\\u521b\\u677f\", \"Profit\": 57247553801.1}, {\"Year\": \"2021\", \"market\": \"CDR\", \"Profit\": 410598753.65}, {\"Year\": \"2021\", \"market\": \"\\u4e2d\\u5c0f\\u677f\", \"Profit\": 270316495426.42}, {\"Year\": \"2021\", \"market\": \"\\u4e3b\\u677f\", \"Profit\": 4553043013096.54}, {\"Year\": \"2021\", \"market\": \"\\u5176\\u5b83\", \"Profit\": 108345850879.76999}, {\"Year\": \"2021\", \"market\": \"\\u521b\\u4e1a\\u677f\", \"Profit\": 215976988557.49}, {\"Year\": \"2021\", \"market\": \"\\u5317\\u4ea4\\u6240\", \"Profit\": 12211929524.42}, {\"Year\": \"2021\", \"market\": \"\\u79d1\\u521b\\u677f\", \"Profit\": 106641872831.81}, {\"Year\": \"2022\", \"market\": \"CDR\", \"Profit\": 450553095.67}, {\"Year\": \"2022\", \"market\": \"\\u4e2d\\u5c0f\\u677f\", \"Profit\": 346207112204.24}, {\"Year\": \"2022\", \"market\": \"\\u4e3b\\u677f\", \"Profit\": 4498976063133.96}, {\"Year\": \"2022\", \"market\": \"\\u5176\\u5b83\", \"Profit\": 53270191499.96001}, {\"Year\": \"2022\", \"market\": \"\\u521b\\u4e1a\\u677f\", \"Profit\": 238831128016.84}, {\"Year\": \"2022\", \"market\": \"\\u5317\\u4ea4\\u6240\", \"Profit\": 13655233688.34}, {\"Year\": \"2022\", \"market\": \"\\u79d1\\u521b\\u677f\", \"Profit\": 112776833178.55}]}}, {\"mode\": \"vega-lite\"});\n",
       "</script>"
      ],
      "text/plain": [
       "alt.Chart(...)"
      ]
     },
     "execution_count": 47,
     "metadata": {},
     "output_type": "execute_result"
    }
   ],
   "source": [
    "plot_stack_hbar(df_profit, x='sum(Profit)', y='Year', color = 'market', title='Profit move')"
   ]
  },
  {
   "cell_type": "code",
   "execution_count": 48,
   "metadata": {
    "tags": [
     "remove-input"
    ]
   },
   "outputs": [
    {
     "data": {
      "text/html": [
       "\n",
       "<style>\n",
       "  #altair-viz-ed518a1884f746b0bbacb7afdae9afc5.vega-embed {\n",
       "    width: 100%;\n",
       "    display: flex;\n",
       "  }\n",
       "\n",
       "  #altair-viz-ed518a1884f746b0bbacb7afdae9afc5.vega-embed details,\n",
       "  #altair-viz-ed518a1884f746b0bbacb7afdae9afc5.vega-embed details summary {\n",
       "    position: relative;\n",
       "  }\n",
       "</style>\n",
       "<div id=\"altair-viz-ed518a1884f746b0bbacb7afdae9afc5\"></div>\n",
       "<script type=\"text/javascript\">\n",
       "  var VEGA_DEBUG = (typeof VEGA_DEBUG == \"undefined\") ? {} : VEGA_DEBUG;\n",
       "  (function(spec, embedOpt){\n",
       "    let outputDiv = document.currentScript.previousElementSibling;\n",
       "    if (outputDiv.id !== \"altair-viz-ed518a1884f746b0bbacb7afdae9afc5\") {\n",
       "      outputDiv = document.getElementById(\"altair-viz-ed518a1884f746b0bbacb7afdae9afc5\");\n",
       "    }\n",
       "    const paths = {\n",
       "      \"vega\": \"https://cdn.jsdelivr.net/npm/vega@5?noext\",\n",
       "      \"vega-lib\": \"https://cdn.jsdelivr.net/npm/vega-lib?noext\",\n",
       "      \"vega-lite\": \"https://cdn.jsdelivr.net/npm/vega-lite@5.8.0?noext\",\n",
       "      \"vega-embed\": \"https://cdn.jsdelivr.net/npm/vega-embed@6?noext\",\n",
       "    };\n",
       "\n",
       "    function maybeLoadScript(lib, version) {\n",
       "      var key = `${lib.replace(\"-\", \"\")}_version`;\n",
       "      return (VEGA_DEBUG[key] == version) ?\n",
       "        Promise.resolve(paths[lib]) :\n",
       "        new Promise(function(resolve, reject) {\n",
       "          var s = document.createElement('script');\n",
       "          document.getElementsByTagName(\"head\")[0].appendChild(s);\n",
       "          s.async = true;\n",
       "          s.onload = () => {\n",
       "            VEGA_DEBUG[key] = version;\n",
       "            return resolve(paths[lib]);\n",
       "          };\n",
       "          s.onerror = () => reject(`Error loading script: ${paths[lib]}`);\n",
       "          s.src = paths[lib];\n",
       "        });\n",
       "    }\n",
       "\n",
       "    function showError(err) {\n",
       "      outputDiv.innerHTML = `<div class=\"error\" style=\"color:red;\">${err}</div>`;\n",
       "      throw err;\n",
       "    }\n",
       "\n",
       "    function displayChart(vegaEmbed) {\n",
       "      vegaEmbed(outputDiv, spec, embedOpt)\n",
       "        .catch(err => showError(`Javascript Error: ${err.message}<br>This usually means there's a typo in your chart specification. See the javascript console for the full traceback.`));\n",
       "    }\n",
       "\n",
       "    if(typeof define === \"function\" && define.amd) {\n",
       "      requirejs.config({paths});\n",
       "      require([\"vega-embed\"], displayChart, err => showError(`Error loading script: ${err.message}`));\n",
       "    } else {\n",
       "      maybeLoadScript(\"vega\", \"5\")\n",
       "        .then(() => maybeLoadScript(\"vega-lite\", \"5.8.0\"))\n",
       "        .then(() => maybeLoadScript(\"vega-embed\", \"6\"))\n",
       "        .catch(showError)\n",
       "        .then(() => displayChart(vegaEmbed));\n",
       "    }\n",
       "  })({\"config\": {\"view\": {\"continuousWidth\": 300, \"continuousHeight\": 300}}, \"data\": {\"name\": \"data-c1d0604913efbcaa8ce60d21cfad3c84\"}, \"mark\": {\"type\": \"bar\"}, \"encoding\": {\"color\": {\"field\": \"exchange\", \"type\": \"nominal\"}, \"x\": {\"aggregate\": \"sum\", \"field\": \"Profit\", \"type\": \"quantitative\"}, \"y\": {\"field\": \"Year\", \"type\": \"nominal\"}}, \"title\": \"Profit move\", \"width\": \"container\", \"$schema\": \"https://vega.github.io/schema/vega-lite/v5.8.0.json\", \"datasets\": {\"data-c1d0604913efbcaa8ce60d21cfad3c84\": [{\"Year\": \"2010\", \"exchange\": \"BSE\", \"Profit\": 296112799.86}, {\"Year\": \"2010\", \"exchange\": \"SSE\", \"Profit\": 1554456217541.12}, {\"Year\": \"2010\", \"exchange\": \"SZSE\", \"Profit\": 291107373387.02997}, {\"Year\": \"2010\", \"exchange\": \"\\u5176\\u5b83\", \"Profit\": 39597912800.45}, {\"Year\": \"2011\", \"exchange\": \"BSE\", \"Profit\": 290270366.61}, {\"Year\": \"2011\", \"exchange\": \"SSE\", \"Profit\": 1914982479106.5833}, {\"Year\": \"2011\", \"exchange\": \"SZSE\", \"Profit\": 338056544050.52}, {\"Year\": \"2011\", \"exchange\": \"\\u5176\\u5b83\", \"Profit\": 46130346810.520004}, {\"Year\": \"2012\", \"exchange\": \"BSE\", \"Profit\": 756553212.33}, {\"Year\": \"2012\", \"exchange\": \"SSE\", \"Profit\": 1854843647964.74}, {\"Year\": \"2012\", \"exchange\": \"SZSE\", \"Profit\": 315773771342.87}, {\"Year\": \"2012\", \"exchange\": \"\\u5176\\u5b83\", \"Profit\": 43822317513.020004}, {\"Year\": \"2013\", \"exchange\": \"BSE\", \"Profit\": 1635194286.45}, {\"Year\": \"2013\", \"exchange\": \"SSE\", \"Profit\": 2128582364570.29}, {\"Year\": \"2013\", \"exchange\": \"SZSE\", \"Profit\": 379302280082.72003}, {\"Year\": \"2013\", \"exchange\": \"\\u5176\\u5b83\", \"Profit\": 65510521229.28}, {\"Year\": \"2014\", \"exchange\": \"BSE\", \"Profit\": 2007670996.04}, {\"Year\": \"2014\", \"exchange\": \"SSE\", \"Profit\": 2310783054402.36}, {\"Year\": \"2014\", \"exchange\": \"SZSE\", \"Profit\": 448223507579.25}, {\"Year\": \"2014\", \"exchange\": \"\\u5176\\u5b83\", \"Profit\": 85841266286.16}, {\"Year\": \"2015\", \"exchange\": \"BSE\", \"Profit\": 2919853590.95}, {\"Year\": \"2015\", \"exchange\": \"SSE\", \"Profit\": 2373427688251.71}, {\"Year\": \"2015\", \"exchange\": \"SZSE\", \"Profit\": 510871238025.46}, {\"Year\": \"2015\", \"exchange\": \"\\u5176\\u5b83\", \"Profit\": 100966538968.31}, {\"Year\": \"2016\", \"exchange\": \"BSE\", \"Profit\": 4185707234.93}, {\"Year\": \"2016\", \"exchange\": \"SSE\", \"Profit\": 2425265715208.94}, {\"Year\": \"2016\", \"exchange\": \"SZSE\", \"Profit\": 646768021938.02}, {\"Year\": \"2016\", \"exchange\": \"\\u5176\\u5b83\", \"Profit\": 112771314846.44}, {\"Year\": \"2017\", \"exchange\": \"BSE\", \"Profit\": 5531249489.48}, {\"Year\": \"2017\", \"exchange\": \"SSE\", \"Profit\": 2870175093535.49}, {\"Year\": \"2017\", \"exchange\": \"SZSE\", \"Profit\": 836491730533.01}, {\"Year\": \"2017\", \"exchange\": \"\\u5176\\u5b83\", \"Profit\": 99545694780.27}, {\"Year\": \"2018\", \"exchange\": \"BSE\", \"Profit\": 6178653329.08}, {\"Year\": \"2018\", \"exchange\": \"SSE\", \"Profit\": 3222159952846.86}, {\"Year\": \"2018\", \"exchange\": \"SZSE\", \"Profit\": 715376879171.21}, {\"Year\": \"2018\", \"exchange\": \"\\u5176\\u5b83\", \"Profit\": -1077718285.4599993}, {\"Year\": \"2019\", \"exchange\": \"BSE\", \"Profit\": 7329489411.84}, {\"Year\": \"2019\", \"exchange\": \"SSE\", \"Profit\": 3518023800403.17}, {\"Year\": \"2019\", \"exchange\": \"SZSE\", \"Profit\": 713132159859.25}, {\"Year\": \"2019\", \"exchange\": \"\\u5176\\u5b83\", \"Profit\": -29389707171.1}, {\"Year\": \"2020\", \"exchange\": \"BSE\", \"Profit\": 8924644739.34}, {\"Year\": \"2020\", \"exchange\": \"SSE\", \"Profit\": 3354432303391.29}, {\"Year\": \"2020\", \"exchange\": \"SZSE\", \"Profit\": 966238801664.18}, {\"Year\": \"2020\", \"exchange\": \"\\u5176\\u5b83\", \"Profit\": -86302815008.83}, {\"Year\": \"2021\", \"exchange\": \"BSE\", \"Profit\": 12211929524.42}, {\"Year\": \"2021\", \"exchange\": \"SSE\", \"Profit\": 4175596996321.75}, {\"Year\": \"2021\", \"exchange\": \"SZSE\", \"Profit\": 970791972344.16}, {\"Year\": \"2021\", \"exchange\": \"\\u5176\\u5b83\", \"Profit\": 108345850879.76999}, {\"Year\": \"2022\", \"exchange\": \"BSE\", \"Profit\": 13655233688.34}, {\"Year\": \"2022\", \"exchange\": \"SSE\", \"Profit\": 4266826106744.13}, {\"Year\": \"2022\", \"exchange\": \"SZSE\", \"Profit\": 930415582885.13}, {\"Year\": \"2022\", \"exchange\": \"\\u5176\\u5b83\", \"Profit\": 53270191499.96001}]}}, {\"mode\": \"vega-lite\"});\n",
       "</script>"
      ],
      "text/plain": [
       "alt.Chart(...)"
      ]
     },
     "execution_count": 48,
     "metadata": {},
     "output_type": "execute_result"
    }
   ],
   "source": [
    "profit_by_ex = df[df.Quarter == 'Q4'].groupby(['Year', 'exchange'])[cols[4]].sum().to_frame(name='Profit').reset_index()\n",
    "plot_stack_hbar(profit_by_ex, x='sum(Profit)', y='Year', color = 'exchange', title='Profit move')"
   ]
  },
  {
   "cell_type": "code",
   "execution_count": 51,
   "metadata": {
    "tags": [
     "remove-input"
    ]
   },
   "outputs": [
    {
     "data": {
      "text/html": [
       "\n",
       "<style>\n",
       "  #altair-viz-187e5db1c75f4d8dbe2d54349ddb3b6b.vega-embed {\n",
       "    width: 100%;\n",
       "    display: flex;\n",
       "  }\n",
       "\n",
       "  #altair-viz-187e5db1c75f4d8dbe2d54349ddb3b6b.vega-embed details,\n",
       "  #altair-viz-187e5db1c75f4d8dbe2d54349ddb3b6b.vega-embed details summary {\n",
       "    position: relative;\n",
       "  }\n",
       "</style>\n",
       "<div id=\"altair-viz-187e5db1c75f4d8dbe2d54349ddb3b6b\"></div>\n",
       "<script type=\"text/javascript\">\n",
       "  var VEGA_DEBUG = (typeof VEGA_DEBUG == \"undefined\") ? {} : VEGA_DEBUG;\n",
       "  (function(spec, embedOpt){\n",
       "    let outputDiv = document.currentScript.previousElementSibling;\n",
       "    if (outputDiv.id !== \"altair-viz-187e5db1c75f4d8dbe2d54349ddb3b6b\") {\n",
       "      outputDiv = document.getElementById(\"altair-viz-187e5db1c75f4d8dbe2d54349ddb3b6b\");\n",
       "    }\n",
       "    const paths = {\n",
       "      \"vega\": \"https://cdn.jsdelivr.net/npm/vega@5?noext\",\n",
       "      \"vega-lib\": \"https://cdn.jsdelivr.net/npm/vega-lib?noext\",\n",
       "      \"vega-lite\": \"https://cdn.jsdelivr.net/npm/vega-lite@5.8.0?noext\",\n",
       "      \"vega-embed\": \"https://cdn.jsdelivr.net/npm/vega-embed@6?noext\",\n",
       "    };\n",
       "\n",
       "    function maybeLoadScript(lib, version) {\n",
       "      var key = `${lib.replace(\"-\", \"\")}_version`;\n",
       "      return (VEGA_DEBUG[key] == version) ?\n",
       "        Promise.resolve(paths[lib]) :\n",
       "        new Promise(function(resolve, reject) {\n",
       "          var s = document.createElement('script');\n",
       "          document.getElementsByTagName(\"head\")[0].appendChild(s);\n",
       "          s.async = true;\n",
       "          s.onload = () => {\n",
       "            VEGA_DEBUG[key] = version;\n",
       "            return resolve(paths[lib]);\n",
       "          };\n",
       "          s.onerror = () => reject(`Error loading script: ${paths[lib]}`);\n",
       "          s.src = paths[lib];\n",
       "        });\n",
       "    }\n",
       "\n",
       "    function showError(err) {\n",
       "      outputDiv.innerHTML = `<div class=\"error\" style=\"color:red;\">${err}</div>`;\n",
       "      throw err;\n",
       "    }\n",
       "\n",
       "    function displayChart(vegaEmbed) {\n",
       "      vegaEmbed(outputDiv, spec, embedOpt)\n",
       "        .catch(err => showError(`Javascript Error: ${err.message}<br>This usually means there's a typo in your chart specification. See the javascript console for the full traceback.`));\n",
       "    }\n",
       "\n",
       "    if(typeof define === \"function\" && define.amd) {\n",
       "      requirejs.config({paths});\n",
       "      require([\"vega-embed\"], displayChart, err => showError(`Error loading script: ${err.message}`));\n",
       "    } else {\n",
       "      maybeLoadScript(\"vega\", \"5\")\n",
       "        .then(() => maybeLoadScript(\"vega-lite\", \"5.8.0\"))\n",
       "        .then(() => maybeLoadScript(\"vega-embed\", \"6\"))\n",
       "        .catch(showError)\n",
       "        .then(() => displayChart(vegaEmbed));\n",
       "    }\n",
       "  })({\"config\": {\"view\": {\"continuousWidth\": 300, \"continuousHeight\": 300}}, \"data\": {\"name\": \"data-2ed5da835185e59831beb30c6e3fd67e\"}, \"mark\": {\"type\": \"bar\"}, \"encoding\": {\"color\": {\"field\": \"area\", \"type\": \"nominal\"}, \"x\": {\"aggregate\": \"sum\", \"field\": \"Profit\", \"type\": \"quantitative\"}, \"y\": {\"field\": \"Year\", \"type\": \"nominal\"}}, \"height\": 400, \"title\": \"Profit move\", \"width\": \"container\", \"$schema\": \"https://vega.github.io/schema/vega-lite/v5.8.0.json\", \"datasets\": {\"data-2ed5da835185e59831beb30c6e3fd67e\": [{\"Year\": \"2010\", \"area\": \"\\u4e0a\\u6d77\", \"Profit\": 178899821454.28}, {\"Year\": \"2010\", \"area\": \"\\u4e91\\u5357\", \"Profit\": 7158009011.42}, {\"Year\": \"2010\", \"area\": \"\\u5185\\u8499\", \"Profit\": 6380341995.14}, {\"Year\": \"2010\", \"area\": \"\\u5317\\u4eac\", \"Profit\": 1018112146000.59}, {\"Year\": \"2010\", \"area\": \"\\u5409\\u6797\", \"Profit\": 6855949984.04}, {\"Year\": \"2010\", \"area\": \"\\u56db\\u5ddd\", \"Profit\": 22767018595.89}, {\"Year\": \"2010\", \"area\": \"\\u5929\\u6d25\", \"Profit\": 16380960432.78}, {\"Year\": \"2010\", \"area\": \"\\u5b81\\u590f\", \"Profit\": 1326569725.6299999}, {\"Year\": \"2010\", \"area\": \"\\u5b89\\u5fbd\", \"Profit\": 23536706326.56}, {\"Year\": \"2010\", \"area\": \"\\u5c71\\u4e1c\", \"Profit\": 49576064695.64}, {\"Year\": \"2010\", \"area\": \"\\u5c71\\u897f\", \"Profit\": 25181313403.7}, {\"Year\": \"2010\", \"area\": \"\\u5e7f\\u4e1c\", \"Profit\": 55600959114.01}, {\"Year\": \"2010\", \"area\": \"\\u5e7f\\u897f\", \"Profit\": 7719837104.07}, {\"Year\": \"2010\", \"area\": \"\\u65b0\\u7586\", \"Profit\": 11641405010.73}, {\"Year\": \"2010\", \"area\": \"\\u6c5f\\u82cf\", \"Profit\": 54747414180.49}, {\"Year\": \"2010\", \"area\": \"\\u6c5f\\u897f\", \"Profit\": 11147437675.58}, {\"Year\": \"2010\", \"area\": \"\\u6cb3\\u5317\", \"Profit\": 19970112151.93}, {\"Year\": \"2010\", \"area\": \"\\u6cb3\\u5357\", \"Profit\": 16633271814.869999}, {\"Year\": \"2010\", \"area\": \"\\u6d59\\u6c5f\", \"Profit\": 60827618795.92}, {\"Year\": \"2010\", \"area\": \"\\u6d77\\u5357\", \"Profit\": 6686513884.83}, {\"Year\": \"2010\", \"area\": \"\\u6df1\\u5733\", \"Profit\": 116807033185.57}, {\"Year\": \"2010\", \"area\": \"\\u6e56\\u5317\", \"Profit\": 11744528606.49}, {\"Year\": \"2010\", \"area\": \"\\u6e56\\u5357\", \"Profit\": 11430881845.7}, {\"Year\": \"2010\", \"area\": \"\\u7518\\u8083\", \"Profit\": 3637137077.37}, {\"Year\": \"2010\", \"area\": \"\\u798f\\u5efa\", \"Profit\": 38119285798.97}, {\"Year\": \"2010\", \"area\": \"\\u897f\\u85cf\", \"Profit\": 1643911304.93}, {\"Year\": \"2010\", \"area\": \"\\u8d35\\u5dde\", \"Profit\": 9337268949.51}, {\"Year\": \"2010\", \"area\": \"\\u8fbd\\u5b81\", \"Profit\": 16192538573.83}, {\"Year\": \"2010\", \"area\": \"\\u91cd\\u5e86\", \"Profit\": 13323548556.55}, {\"Year\": \"2010\", \"area\": \"\\u9655\\u897f\", \"Profit\": 12402365202.73}, {\"Year\": \"2010\", \"area\": \"\\u9752\\u6d77\", \"Profit\": 4110367135.5199995}, {\"Year\": \"2010\", \"area\": \"\\u9ed1\\u9f99\\u6c5f\", \"Profit\": 5665253332.88}, {\"Year\": \"2011\", \"area\": \"\\u4e0a\\u6d77\", \"Profit\": 194403428959.94}, {\"Year\": \"2011\", \"area\": \"\\u4e91\\u5357\", \"Profit\": 6773264287.52}, {\"Year\": \"2011\", \"area\": \"\\u5185\\u8499\", \"Profit\": 11909658597.48}, {\"Year\": \"2011\", \"area\": \"\\u5317\\u4eac\", \"Profit\": 1315591495747.1301}, {\"Year\": \"2011\", \"area\": \"\\u5409\\u6797\", \"Profit\": 7872456221.15}, {\"Year\": \"2011\", \"area\": \"\\u56db\\u5ddd\", \"Profit\": 31154868669.600002}, {\"Year\": \"2011\", \"area\": \"\\u5929\\u6d25\", \"Profit\": -265897343.7600006}, {\"Year\": \"2011\", \"area\": \"\\u5b81\\u590f\", \"Profit\": 1894472461.27}, {\"Year\": \"2011\", \"area\": \"\\u5b89\\u5fbd\", \"Profit\": 30072327268.5}, {\"Year\": \"2011\", \"area\": \"\\u5c71\\u4e1c\", \"Profit\": 56055559443.27}, {\"Year\": \"2011\", \"area\": \"\\u5c71\\u897f\", \"Profit\": 28754702190.440002}, {\"Year\": \"2011\", \"area\": \"\\u5e7f\\u4e1c\", \"Profit\": 60982022097.979996}, {\"Year\": \"2011\", \"area\": \"\\u5e7f\\u897f\", \"Profit\": 5973711701.82}, {\"Year\": \"2011\", \"area\": \"\\u65b0\\u7586\", \"Profit\": 8407252419.759999}, {\"Year\": \"2011\", \"area\": \"\\u6c5f\\u82cf\", \"Profit\": 65585216675.15}, {\"Year\": \"2011\", \"area\": \"\\u6c5f\\u897f\", \"Profit\": 15502701487.26}, {\"Year\": \"2011\", \"area\": \"\\u6cb3\\u5317\", \"Profit\": 20334661666.18}, {\"Year\": \"2011\", \"area\": \"\\u6cb3\\u5357\", \"Profit\": 19702508785.48}, {\"Year\": \"2011\", \"area\": \"\\u6d59\\u6c5f\", \"Profit\": 72053315659.55}, {\"Year\": \"2011\", \"area\": \"\\u6d77\\u5357\", \"Profit\": 6307031631.45}, {\"Year\": \"2011\", \"area\": \"\\u6df1\\u5733\", \"Profit\": 139650145456.30002}, {\"Year\": \"2011\", \"area\": \"\\u6e56\\u5317\", \"Profit\": 11456938312.21}, {\"Year\": \"2011\", \"area\": \"\\u6e56\\u5357\", \"Profit\": 19952206120.31}, {\"Year\": \"2011\", \"area\": \"\\u7518\\u8083\", \"Profit\": 6009464886.01}, {\"Year\": \"2011\", \"area\": \"\\u798f\\u5efa\", \"Profit\": 50213227281.090004}, {\"Year\": \"2011\", \"area\": \"\\u897f\\u85cf\", \"Profit\": 1896531184.36}, {\"Year\": \"2011\", \"area\": \"\\u8d35\\u5dde\", \"Profit\": 13728448261.26}, {\"Year\": \"2011\", \"area\": \"\\u8fbd\\u5b81\", \"Profit\": 12566694124.08}, {\"Year\": \"2011\", \"area\": \"\\u91cd\\u5e86\", \"Profit\": 13613551770.3533}, {\"Year\": \"2011\", \"area\": \"\\u9655\\u897f\", \"Profit\": 14960119453.869999}, {\"Year\": \"2011\", \"area\": \"\\u9752\\u6d77\", \"Profit\": 4390752321.150001}, {\"Year\": \"2011\", \"area\": \"\\u9ed1\\u9f99\\u6c5f\", \"Profit\": 5536185358.94}, {\"Year\": \"2012\", \"area\": \"\\u4e0a\\u6d77\", \"Profit\": 202049595837.76}, {\"Year\": \"2012\", \"area\": \"\\u4e91\\u5357\", \"Profit\": 5379572204.58}, {\"Year\": \"2012\", \"area\": \"\\u5185\\u8499\", \"Profit\": 9236808053.17}, {\"Year\": \"2012\", \"area\": \"\\u5317\\u4eac\", \"Profit\": 1267589788337.4}, {\"Year\": \"2012\", \"area\": \"\\u5409\\u6797\", \"Profit\": 4232334350.91}, {\"Year\": \"2012\", \"area\": \"\\u56db\\u5ddd\", \"Profit\": 31738379571.39}, {\"Year\": \"2012\", \"area\": \"\\u5929\\u6d25\", \"Profit\": 2620051259.4299984}, {\"Year\": \"2012\", \"area\": \"\\u5b81\\u590f\", \"Profit\": 1826107584.2199998}, {\"Year\": \"2012\", \"area\": \"\\u5b89\\u5fbd\", \"Profit\": 19312750925.51}, {\"Year\": \"2012\", \"area\": \"\\u5c71\\u4e1c\", \"Profit\": 47850490617.06}, {\"Year\": \"2012\", \"area\": \"\\u5c71\\u897f\", \"Profit\": 25545888302.99}, {\"Year\": \"2012\", \"area\": \"\\u5e7f\\u4e1c\", \"Profit\": 60925735025.64}, {\"Year\": \"2012\", \"area\": \"\\u5e7f\\u897f\", \"Profit\": 3949094636.44}, {\"Year\": \"2012\", \"area\": \"\\u65b0\\u7586\", \"Profit\": 7775099379.12}, {\"Year\": \"2012\", \"area\": \"\\u6c5f\\u82cf\", \"Profit\": 67419997324.54}, {\"Year\": \"2012\", \"area\": \"\\u6c5f\\u897f\", \"Profit\": 10894530987.74}, {\"Year\": \"2012\", \"area\": \"\\u6cb3\\u5317\", \"Profit\": 17686780843.97}, {\"Year\": \"2012\", \"area\": \"\\u6cb3\\u5357\", \"Profit\": 16957045295.25}, {\"Year\": \"2012\", \"area\": \"\\u6d59\\u6c5f\", \"Profit\": 68684064673.88}, {\"Year\": \"2012\", \"area\": \"\\u6d77\\u5357\", \"Profit\": 4989632637.940001}, {\"Year\": \"2012\", \"area\": \"\\u6df1\\u5733\", \"Profit\": 138686399507.9}, {\"Year\": \"2012\", \"area\": \"\\u6e56\\u5317\", \"Profit\": 11068450366.97}, {\"Year\": \"2012\", \"area\": \"\\u6e56\\u5357\", \"Profit\": 16786770426.08}, {\"Year\": \"2012\", \"area\": \"\\u7518\\u8083\", \"Profit\": 6373434816.34}, {\"Year\": \"2012\", \"area\": \"\\u798f\\u5efa\", \"Profit\": 57631955179.47}, {\"Year\": \"2012\", \"area\": \"\\u897f\\u85cf\", \"Profit\": 1913072763.82}, {\"Year\": \"2012\", \"area\": \"\\u8d35\\u5dde\", \"Profit\": 19065024598.59}, {\"Year\": \"2012\", \"area\": \"\\u8fbd\\u5b81\", \"Profit\": 6317511012.54}, {\"Year\": \"2012\", \"area\": \"\\u91cd\\u5e86\", \"Profit\": 18792133674.45}, {\"Year\": \"2012\", \"area\": \"\\u9655\\u897f\", \"Profit\": 11265652157.49}, {\"Year\": \"2012\", \"area\": \"\\u9752\\u6d77\", \"Profit\": 931551795.54}, {\"Year\": \"2012\", \"area\": \"\\u9ed1\\u9f99\\u6c5f\", \"Profit\": 5121715159.48}, {\"Year\": \"2013\", \"area\": \"\\u4e0a\\u6d77\", \"Profit\": 222383698203.21}, {\"Year\": \"2013\", \"area\": \"\\u4e91\\u5357\", \"Profit\": 6618521060.849999}, {\"Year\": \"2013\", \"area\": \"\\u5185\\u8499\", \"Profit\": 11178647442.46}, {\"Year\": \"2013\", \"area\": \"\\u5317\\u4eac\", \"Profit\": 1445006087573.1099}, {\"Year\": \"2013\", \"area\": \"\\u5409\\u6797\", \"Profit\": 6794965493.4}, {\"Year\": \"2013\", \"area\": \"\\u56db\\u5ddd\", \"Profit\": 28579382149.61}, {\"Year\": \"2013\", \"area\": \"\\u5929\\u6d25\", \"Profit\": 15910267675.42}, {\"Year\": \"2013\", \"area\": \"\\u5b81\\u590f\", \"Profit\": 1197428370.6299999}, {\"Year\": \"2013\", \"area\": \"\\u5b89\\u5fbd\", \"Profit\": 26190630649.25}, {\"Year\": \"2013\", \"area\": \"\\u5c71\\u4e1c\", \"Profit\": 57124552876.44}, {\"Year\": \"2013\", \"area\": \"\\u5c71\\u897f\", \"Profit\": 19235143330.45}, {\"Year\": \"2013\", \"area\": \"\\u5e7f\\u4e1c\", \"Profit\": 80733949483.5}, {\"Year\": \"2013\", \"area\": \"\\u5e7f\\u897f\", \"Profit\": 5097653148.04}, {\"Year\": \"2013\", \"area\": \"\\u65b0\\u7586\", \"Profit\": 8945224264.5}, {\"Year\": \"2013\", \"area\": \"\\u6c5f\\u82cf\", \"Profit\": 70822460114.66}, {\"Year\": \"2013\", \"area\": \"\\u6c5f\\u897f\", \"Profit\": 11567994803.14}, {\"Year\": \"2013\", \"area\": \"\\u6cb3\\u5317\", \"Profit\": 22049229877.74}, {\"Year\": \"2013\", \"area\": \"\\u6cb3\\u5357\", \"Profit\": 19419857028.07}, {\"Year\": \"2013\", \"area\": \"\\u6d59\\u6c5f\", \"Profit\": 85817475837.47}, {\"Year\": \"2013\", \"area\": \"\\u6d77\\u5357\", \"Profit\": 5192871380.51}, {\"Year\": \"2013\", \"area\": \"\\u6df1\\u5733\", \"Profit\": 179698106594.7}, {\"Year\": \"2013\", \"area\": \"\\u6e56\\u5317\", \"Profit\": 9582450165.460001}, {\"Year\": \"2013\", \"area\": \"\\u6e56\\u5357\", \"Profit\": 19368464023.3}, {\"Year\": \"2013\", \"area\": \"\\u7518\\u8083\", \"Profit\": 3272033296.02}, {\"Year\": \"2013\", \"area\": \"\\u798f\\u5efa\", \"Profit\": 65407203452.28}, {\"Year\": \"2013\", \"area\": \"\\u897f\\u85cf\", \"Profit\": 2036960091.65}, {\"Year\": \"2013\", \"area\": \"\\u8d35\\u5dde\", \"Profit\": 22011032933.57}, {\"Year\": \"2013\", \"area\": \"\\u8fbd\\u5b81\", \"Profit\": 19569851259.95}, {\"Year\": \"2013\", \"area\": \"\\u91cd\\u5e86\", \"Profit\": 19894914328.239998}, {\"Year\": \"2013\", \"area\": \"\\u9655\\u897f\", \"Profit\": 10791057898.789999}, {\"Year\": \"2013\", \"area\": \"\\u9752\\u6d77\", \"Profit\": 2363140893.3399997}, {\"Year\": \"2013\", \"area\": \"\\u9ed1\\u9f99\\u6c5f\", \"Profit\": 4023388953.25}, {\"Year\": \"2014\", \"area\": \"\\u4e0a\\u6d77\", \"Profit\": 286598583672.48}, {\"Year\": \"2014\", \"area\": \"\\u4e91\\u5357\", \"Profit\": 6736982732.48}, {\"Year\": \"2014\", \"area\": \"\\u5185\\u8499\", \"Profit\": 11340530860.83}, {\"Year\": \"2014\", \"area\": \"\\u5317\\u4eac\", \"Profit\": 1496964515238.41}, {\"Year\": \"2014\", \"area\": \"\\u5409\\u6797\", \"Profit\": 7999417366.07}, {\"Year\": \"2014\", \"area\": \"\\u56db\\u5ddd\", \"Profit\": 15970493336.6}, {\"Year\": \"2014\", \"area\": \"\\u5929\\u6d25\", \"Profit\": 22021611348.44}, {\"Year\": \"2014\", \"area\": \"\\u5b81\\u590f\", \"Profit\": -195238515.03}, {\"Year\": \"2014\", \"area\": \"\\u5b89\\u5fbd\", \"Profit\": 24485644426.27}, {\"Year\": \"2014\", \"area\": \"\\u5c71\\u4e1c\", \"Profit\": 67441689954.52}, {\"Year\": \"2014\", \"area\": \"\\u5c71\\u897f\", \"Profit\": 17392715247.03}, {\"Year\": \"2014\", \"area\": \"\\u5e7f\\u4e1c\", \"Profit\": 103041691574.78}, {\"Year\": \"2014\", \"area\": \"\\u5e7f\\u897f\", \"Profit\": 5504966065.29}, {\"Year\": \"2014\", \"area\": \"\\u65b0\\u7586\", \"Profit\": 11553709416.61}, {\"Year\": \"2014\", \"area\": \"\\u6c5f\\u82cf\", \"Profit\": 86556738548.49}, {\"Year\": \"2014\", \"area\": \"\\u6c5f\\u897f\", \"Profit\": 12728039379.86}, {\"Year\": \"2014\", \"area\": \"\\u6cb3\\u5317\", \"Profit\": 30050611626.25}, {\"Year\": \"2014\", \"area\": \"\\u6cb3\\u5357\", \"Profit\": 21943258706.32}, {\"Year\": \"2014\", \"area\": \"\\u6d59\\u6c5f\", \"Profit\": 97978197189.03}, {\"Year\": \"2014\", \"area\": \"\\u6d77\\u5357\", \"Profit\": 5003637418.93}, {\"Year\": \"2014\", \"area\": \"\\u6df1\\u5733\", \"Profit\": 216643462577.72}, {\"Year\": \"2014\", \"area\": \"\\u6e56\\u5317\", \"Profit\": 25006133314.399998}, {\"Year\": \"2014\", \"area\": \"\\u6e56\\u5357\", \"Profit\": 19226608414.92}, {\"Year\": \"2014\", \"area\": \"\\u7518\\u8083\", \"Profit\": 6089163767.74}, {\"Year\": \"2014\", \"area\": \"\\u798f\\u5efa\", \"Profit\": 74875048269.20999}, {\"Year\": \"2014\", \"area\": \"\\u897f\\u85cf\", \"Profit\": 3965212174.1}, {\"Year\": \"2014\", \"area\": \"\\u8d35\\u5dde\", \"Profit\": 22710332393.74}, {\"Year\": \"2014\", \"area\": \"\\u8fbd\\u5b81\", \"Profit\": 12561598119.39}, {\"Year\": \"2014\", \"area\": \"\\u91cd\\u5e86\", \"Profit\": 28111204067.15}, {\"Year\": \"2014\", \"area\": \"\\u9655\\u897f\", \"Profit\": 8926876137.81}, {\"Year\": \"2014\", \"area\": \"\\u9752\\u6d77\", \"Profit\": 2447419885.63}, {\"Year\": \"2014\", \"area\": \"\\u9ed1\\u9f99\\u6c5f\", \"Profit\": 7325707266.14}, {\"Year\": \"2015\", \"area\": \"\\u4e0a\\u6d77\", \"Profit\": 340790617476.3}, {\"Year\": \"2015\", \"area\": \"\\u4e91\\u5357\", \"Profit\": 3959430340.42}, {\"Year\": \"2015\", \"area\": \"\\u5185\\u8499\", \"Profit\": 5807432888.9}, {\"Year\": \"2015\", \"area\": \"\\u5317\\u4eac\", \"Profit\": 1455573714059.29}, {\"Year\": \"2015\", \"area\": \"\\u5409\\u6797\", \"Profit\": 10995806695.28}, {\"Year\": \"2015\", \"area\": \"\\u56db\\u5ddd\", \"Profit\": 32826829202.96}, {\"Year\": \"2015\", \"area\": \"\\u5929\\u6d25\", \"Profit\": 16958078149.76}, {\"Year\": \"2015\", \"area\": \"\\u5b81\\u590f\", \"Profit\": 329673991.6599999}, {\"Year\": \"2015\", \"area\": \"\\u5b89\\u5fbd\", \"Profit\": 18473742504.16}, {\"Year\": \"2015\", \"area\": \"\\u5c71\\u4e1c\", \"Profit\": 70050177131.01}, {\"Year\": \"2015\", \"area\": \"\\u5c71\\u897f\", \"Profit\": 8117119488.0}, {\"Year\": \"2015\", \"area\": \"\\u5e7f\\u4e1c\", \"Profit\": 126316876226.6}, {\"Year\": \"2015\", \"area\": \"\\u5e7f\\u897f\", \"Profit\": 6426441186.73}, {\"Year\": \"2015\", \"area\": \"\\u65b0\\u7586\", \"Profit\": 25089220040.06}, {\"Year\": \"2015\", \"area\": \"\\u6c5f\\u82cf\", \"Profit\": 103122820424.36}, {\"Year\": \"2015\", \"area\": \"\\u6c5f\\u897f\", \"Profit\": 10843226790.89}, {\"Year\": \"2015\", \"area\": \"\\u6cb3\\u5317\", \"Profit\": 31172221090.64}, {\"Year\": \"2015\", \"area\": \"\\u6cb3\\u5357\", \"Profit\": 13112550946.289999}, {\"Year\": \"2015\", \"area\": \"\\u6d59\\u6c5f\", \"Profit\": 112812943511.1}, {\"Year\": \"2015\", \"area\": \"\\u6d77\\u5357\", \"Profit\": 3373142824.17}, {\"Year\": \"2015\", \"area\": \"\\u6df1\\u5733\", \"Profit\": 288741120180.08}, {\"Year\": \"2015\", \"area\": \"\\u6e56\\u5317\", \"Profit\": 23629996117.82}, {\"Year\": \"2015\", \"area\": \"\\u6e56\\u5357\", \"Profit\": 21378514225.47}, {\"Year\": \"2015\", \"area\": \"\\u7518\\u8083\", \"Profit\": -2076838250.8100007}, {\"Year\": \"2015\", \"area\": \"\\u798f\\u5efa\", \"Profit\": 78767120254.71}, {\"Year\": \"2015\", \"area\": \"\\u897f\\u85cf\", \"Profit\": 4440284593.030001}, {\"Year\": \"2015\", \"area\": \"\\u8d35\\u5dde\", \"Profit\": 23789651590.68}, {\"Year\": \"2015\", \"area\": \"\\u8fbd\\u5b81\", \"Profit\": 5400470501.559999}, {\"Year\": \"2015\", \"area\": \"\\u91cd\\u5e86\", \"Profit\": 29951107707.809998}, {\"Year\": \"2015\", \"area\": \"\\u9655\\u897f\", \"Profit\": 6639137709.66}, {\"Year\": \"2015\", \"area\": \"\\u9752\\u6d77\", \"Profit\": 876543699.7999998}, {\"Year\": \"2015\", \"area\": \"\\u9ed1\\u9f99\\u6c5f\", \"Profit\": 6609752978.78}, {\"Year\": \"2016\", \"area\": \"\\u4e0a\\u6d77\", \"Profit\": 340545022620.63}, {\"Year\": \"2016\", \"area\": \"\\u4e91\\u5357\", \"Profit\": 5297633432.280001}, {\"Year\": \"2016\", \"area\": \"\\u5185\\u8499\", \"Profit\": 11261943067.69}, {\"Year\": \"2016\", \"area\": \"\\u5317\\u4eac\", \"Profit\": 1447268065238.85}, {\"Year\": \"2016\", \"area\": \"\\u5409\\u6797\", \"Profit\": 9807283445.51}, {\"Year\": \"2016\", \"area\": \"\\u56db\\u5ddd\", \"Profit\": 31614349701.05}, {\"Year\": \"2016\", \"area\": \"\\u5929\\u6d25\", \"Profit\": -4777589755.869999}, {\"Year\": \"2016\", \"area\": \"\\u5b81\\u590f\", \"Profit\": 894794095.2199999}, {\"Year\": \"2016\", \"area\": \"\\u5b89\\u5fbd\", \"Profit\": 35748226620.81}, {\"Year\": \"2016\", \"area\": \"\\u5c71\\u4e1c\", \"Profit\": 74765774490.43}, {\"Year\": \"2016\", \"area\": \"\\u5c71\\u897f\", \"Profit\": 10338715423.33}, {\"Year\": \"2016\", \"area\": \"\\u5e7f\\u4e1c\", \"Profit\": 148024591103.4}, {\"Year\": \"2016\", \"area\": \"\\u5e7f\\u897f\", \"Profit\": 7262278236.87}, {\"Year\": \"2016\", \"area\": \"\\u65b0\\u7586\", \"Profit\": 25471084298.52}, {\"Year\": \"2016\", \"area\": \"\\u6c5f\\u82cf\", \"Profit\": 124990037855.65}, {\"Year\": \"2016\", \"area\": \"\\u6c5f\\u897f\", \"Profit\": 13002544517.449999}, {\"Year\": \"2016\", \"area\": \"\\u6cb3\\u5317\", \"Profit\": 40802730803.24}, {\"Year\": \"2016\", \"area\": \"\\u6cb3\\u5357\", \"Profit\": 26875050467.45}, {\"Year\": \"2016\", \"area\": \"\\u6d59\\u6c5f\", \"Profit\": 156099782772.1}, {\"Year\": \"2016\", \"area\": \"\\u6d77\\u5357\", \"Profit\": 5937039461.88}, {\"Year\": \"2016\", \"area\": \"\\u6df1\\u5733\", \"Profit\": 304425416936.97}, {\"Year\": \"2016\", \"area\": \"\\u6e56\\u5317\", \"Profit\": 26140614646.82}, {\"Year\": \"2016\", \"area\": \"\\u6e56\\u5357\", \"Profit\": 21960260002.15}, {\"Year\": \"2016\", \"area\": \"\\u7518\\u8083\", \"Profit\": 5230564958.39}, {\"Year\": \"2016\", \"area\": \"\\u798f\\u5efa\", \"Profit\": 92064353353.58}, {\"Year\": \"2016\", \"area\": \"\\u897f\\u85cf\", \"Profit\": 5534410923.41}, {\"Year\": \"2016\", \"area\": \"\\u8d35\\u5dde\", \"Profit\": 26925305940.89}, {\"Year\": \"2016\", \"area\": \"\\u8fbd\\u5b81\", \"Profit\": 23448371986.43}, {\"Year\": \"2016\", \"area\": \"\\u91cd\\u5e86\", \"Profit\": 32263456388.52}, {\"Year\": \"2016\", \"area\": \"\\u9655\\u897f\", \"Profit\": 17061817719.87}, {\"Year\": \"2016\", \"area\": \"\\u9752\\u6d77\", \"Profit\": 2298223735.08}, {\"Year\": \"2016\", \"area\": \"\\u9ed1\\u9f99\\u6c5f\", \"Profit\": 3451582658.359999}, {\"Year\": \"2017\", \"area\": \"\\u4e0a\\u6d77\", \"Profit\": 394621983891.14}, {\"Year\": \"2017\", \"area\": \"\\u4e91\\u5357\", \"Profit\": 11767769322.88}, {\"Year\": \"2017\", \"area\": \"\\u5185\\u8499\", \"Profit\": 18849353451.03}, {\"Year\": \"2017\", \"area\": \"\\u5317\\u4eac\", \"Profit\": 1589051098301.96}, {\"Year\": \"2017\", \"area\": \"\\u5409\\u6797\", \"Profit\": 12328740556.83}, {\"Year\": \"2017\", \"area\": \"\\u56db\\u5ddd\", \"Profit\": 52420575737.38}, {\"Year\": \"2017\", \"area\": \"\\u5929\\u6d25\", \"Profit\": 22350470356.37}, {\"Year\": \"2017\", \"area\": \"\\u5b81\\u590f\", \"Profit\": 3291041217.27}, {\"Year\": \"2017\", \"area\": \"\\u5b89\\u5fbd\", \"Profit\": 53819657150.13}, {\"Year\": \"2017\", \"area\": \"\\u5c71\\u4e1c\", \"Profit\": 108705917377.2}, {\"Year\": \"2017\", \"area\": \"\\u5c71\\u897f\", \"Profit\": 29783909793.96}, {\"Year\": \"2017\", \"area\": \"\\u5e7f\\u4e1c\", \"Profit\": 183314583921.65}, {\"Year\": \"2017\", \"area\": \"\\u5e7f\\u897f\", \"Profit\": 12037770354.98}, {\"Year\": \"2017\", \"area\": \"\\u65b0\\u7586\", \"Profit\": 29855900553.97}, {\"Year\": \"2017\", \"area\": \"\\u6c5f\\u82cf\", \"Profit\": 163125629248.09}, {\"Year\": \"2017\", \"area\": \"\\u6c5f\\u897f\", \"Profit\": 21445711602.33}, {\"Year\": \"2017\", \"area\": \"\\u6cb3\\u5317\", \"Profit\": 43825922606.33}, {\"Year\": \"2017\", \"area\": \"\\u6cb3\\u5357\", \"Profit\": 35307704217.87}, {\"Year\": \"2017\", \"area\": \"\\u6d59\\u6c5f\", \"Profit\": 186351062723.45}, {\"Year\": \"2017\", \"area\": \"\\u6d77\\u5357\", \"Profit\": 5848366081.849999}, {\"Year\": \"2017\", \"area\": \"\\u6df1\\u5733\", \"Profit\": 385889088362.48004}, {\"Year\": \"2017\", \"area\": \"\\u6e56\\u5317\", \"Profit\": 32473113443.53}, {\"Year\": \"2017\", \"area\": \"\\u6e56\\u5357\", \"Profit\": 35580373755.69}, {\"Year\": \"2017\", \"area\": \"\\u7518\\u8083\", \"Profit\": 12871673661.54}, {\"Year\": \"2017\", \"area\": \"\\u798f\\u5efa\", \"Profit\": 115038296481.51}, {\"Year\": \"2017\", \"area\": \"\\u897f\\u85cf\", \"Profit\": 6074099536.99}, {\"Year\": \"2017\", \"area\": \"\\u8d35\\u5dde\", \"Profit\": 38136297490.39}, {\"Year\": \"2017\", \"area\": \"\\u8fbd\\u5b81\", \"Profit\": 32091243426.95}, {\"Year\": \"2017\", \"area\": \"\\u91cd\\u5e86\", \"Profit\": 41130717570.96}, {\"Year\": \"2017\", \"area\": \"\\u9655\\u897f\", \"Profit\": 25008648489.26}, {\"Year\": \"2017\", \"area\": \"\\u9752\\u6d77\", \"Profit\": -2002900811.2300003}, {\"Year\": \"2017\", \"area\": \"\\u9ed1\\u9f99\\u6c5f\", \"Profit\": 6273004193.76}, {\"Year\": \"2018\", \"area\": \"\\u4e0a\\u6d77\", \"Profit\": 390257820462.39}, {\"Year\": \"2018\", \"area\": \"\\u4e91\\u5357\", \"Profit\": 14834888942.91}, {\"Year\": \"2018\", \"area\": \"\\u5185\\u8499\", \"Profit\": 21919507673.03}, {\"Year\": \"2018\", \"area\": \"\\u5317\\u4eac\", \"Profit\": 1835822063723.94}, {\"Year\": \"2018\", \"area\": \"\\u5409\\u6797\", \"Profit\": 4290196992.0200005}, {\"Year\": \"2018\", \"area\": \"\\u56db\\u5ddd\", \"Profit\": 55339415578.79}, {\"Year\": \"2018\", \"area\": \"\\u5929\\u6d25\", \"Profit\": 21426572965.920002}, {\"Year\": \"2018\", \"area\": \"\\u5b81\\u590f\", \"Profit\": 1850144620.94}, {\"Year\": \"2018\", \"area\": \"\\u5b89\\u5fbd\", \"Profit\": 68746212141.15}, {\"Year\": \"2018\", \"area\": \"\\u5c71\\u4e1c\", \"Profit\": 120843052320.85}, {\"Year\": \"2018\", \"area\": \"\\u5c71\\u897f\", \"Profit\": 36933478753.32}, {\"Year\": \"2018\", \"area\": \"\\u5e7f\\u4e1c\", \"Profit\": 153449508592.75}, {\"Year\": \"2018\", \"area\": \"\\u5e7f\\u897f\", \"Profit\": 11128792701.18}, {\"Year\": \"2018\", \"area\": \"\\u65b0\\u7586\", \"Profit\": 30062357459.93}, {\"Year\": \"2018\", \"area\": \"\\u6c5f\\u82cf\", \"Profit\": 173388530272.19998}, {\"Year\": \"2018\", \"area\": \"\\u6c5f\\u897f\", \"Profit\": 21641890166.13}, {\"Year\": \"2018\", \"area\": \"\\u6cb3\\u5317\", \"Profit\": 50067644129.079994}, {\"Year\": \"2018\", \"area\": \"\\u6cb3\\u5357\", \"Profit\": 32790923207.199997}, {\"Year\": \"2018\", \"area\": \"\\u6d59\\u6c5f\", \"Profit\": 182811761932.36}, {\"Year\": \"2018\", \"area\": \"\\u6d77\\u5357\", \"Profit\": -7858013274.759999}, {\"Year\": \"2018\", \"area\": \"\\u6df1\\u5733\", \"Profit\": 391952126483.01}, {\"Year\": \"2018\", \"area\": \"\\u6e56\\u5317\", \"Profit\": 35962696051.46}, {\"Year\": \"2018\", \"area\": \"\\u6e56\\u5357\", \"Profit\": 31107444590.89}, {\"Year\": \"2018\", \"area\": \"\\u7518\\u8083\", \"Profit\": 10812119570.58}, {\"Year\": \"2018\", \"area\": \"\\u798f\\u5efa\", \"Profit\": 110540257477.02}, {\"Year\": \"2018\", \"area\": \"\\u897f\\u85cf\", \"Profit\": 5253454277.37}, {\"Year\": \"2018\", \"area\": \"\\u8d35\\u5dde\", \"Profit\": 44835304825.840004}, {\"Year\": \"2018\", \"area\": \"\\u8fbd\\u5b81\", \"Profit\": 24900376607.13}, {\"Year\": \"2018\", \"area\": \"\\u91cd\\u5e86\", \"Profit\": 36214657682.37}, {\"Year\": \"2018\", \"area\": \"\\u9655\\u897f\", \"Profit\": 26488806837.989998}, {\"Year\": \"2018\", \"area\": \"\\u9752\\u6d77\", \"Profit\": -6398461233.1}, {\"Year\": \"2018\", \"area\": \"\\u9ed1\\u9f99\\u6c5f\", \"Profit\": 6121299486.18}, {\"Year\": \"2019\", \"area\": \"\\u4e0a\\u6d77\", \"Profit\": 402044067529.54}, {\"Year\": \"2019\", \"area\": \"\\u4e91\\u5357\", \"Profit\": 17383573975.329998}, {\"Year\": \"2019\", \"area\": \"\\u5185\\u8499\", \"Profit\": 21217276765.68}, {\"Year\": \"2019\", \"area\": \"\\u5317\\u4eac\", \"Profit\": 1974749641793.79}, {\"Year\": \"2019\", \"area\": \"\\u5409\\u6797\", \"Profit\": -4314169067.98}, {\"Year\": \"2019\", \"area\": \"\\u56db\\u5ddd\", \"Profit\": 65538743853.590004}, {\"Year\": \"2019\", \"area\": \"\\u5929\\u6d25\", \"Profit\": 33672376618.0}, {\"Year\": \"2019\", \"area\": \"\\u5b81\\u590f\", \"Profit\": 2439126558.93}, {\"Year\": \"2019\", \"area\": \"\\u5b89\\u5fbd\", \"Profit\": 76850293200.89}, {\"Year\": \"2019\", \"area\": \"\\u5c71\\u4e1c\", \"Profit\": 112965127154.73999}, {\"Year\": \"2019\", \"area\": \"\\u5c71\\u897f\", \"Profit\": 27376433434.649998}, {\"Year\": \"2019\", \"area\": \"\\u5e7f\\u4e1c\", \"Profit\": 189012442597.43}, {\"Year\": \"2019\", \"area\": \"\\u5e7f\\u897f\", \"Profit\": 11345025727.84}, {\"Year\": \"2019\", \"area\": \"\\u65b0\\u7586\", \"Profit\": 28882237856.86}, {\"Year\": \"2019\", \"area\": \"\\u6c5f\\u82cf\", \"Profit\": 185265714423.47}, {\"Year\": \"2019\", \"area\": \"\\u6c5f\\u897f\", \"Profit\": 19001577702.07}, {\"Year\": \"2019\", \"area\": \"\\u6cb3\\u5317\", \"Profit\": 56763521626.979996}, {\"Year\": \"2019\", \"area\": \"\\u6cb3\\u5357\", \"Profit\": 38981386448.8}, {\"Year\": \"2019\", \"area\": \"\\u6d59\\u6c5f\", \"Profit\": 191678162309.35}, {\"Year\": \"2019\", \"area\": \"\\u6d77\\u5357\", \"Profit\": -718848158.1300001}, {\"Year\": \"2019\", \"area\": \"\\u6df1\\u5733\", \"Profit\": 483382457120.83}, {\"Year\": \"2019\", \"area\": \"\\u6e56\\u5317\", \"Profit\": 42013711939.15}, {\"Year\": \"2019\", \"area\": \"\\u6e56\\u5357\", \"Profit\": 33278942515.16}, {\"Year\": \"2019\", \"area\": \"\\u7518\\u8083\", \"Profit\": 1860393463.4099991}, {\"Year\": \"2019\", \"area\": \"\\u798f\\u5efa\", \"Profit\": 118902085747.36}, {\"Year\": \"2019\", \"area\": \"\\u897f\\u85cf\", \"Profit\": 5683185652.4}, {\"Year\": \"2019\", \"area\": \"\\u8d35\\u5dde\", \"Profit\": 51700029104.979996}, {\"Year\": \"2019\", \"area\": \"\\u8fbd\\u5b81\", \"Profit\": 23687373078.440002}, {\"Year\": \"2019\", \"area\": \"\\u91cd\\u5e86\", \"Profit\": 32564962848.829998}, {\"Year\": \"2019\", \"area\": \"\\u9655\\u897f\", \"Profit\": 30731530220.59}, {\"Year\": \"2019\", \"area\": \"\\u9752\\u6d77\", \"Profit\": -45734448854.74}, {\"Year\": \"2019\", \"area\": \"\\u9ed1\\u9f99\\u6c5f\", \"Profit\": 2952025074.1799994}, {\"Year\": \"2020\", \"area\": \"\\u4e0a\\u6d77\", \"Profit\": 383532862322.06}, {\"Year\": \"2020\", \"area\": \"\\u4e91\\u5357\", \"Profit\": 18561203958.95}, {\"Year\": \"2020\", \"area\": \"\\u5185\\u8499\", \"Profit\": 22862568795.11}, {\"Year\": \"2020\", \"area\": \"\\u5317\\u4eac\", \"Profit\": 1857896258542.57}, {\"Year\": \"2020\", \"area\": \"\\u5409\\u6797\", \"Profit\": 18275064431.88}, {\"Year\": \"2020\", \"area\": \"\\u56db\\u5ddd\", \"Profit\": 73374385547.7}, {\"Year\": \"2020\", \"area\": \"\\u5929\\u6d25\", \"Profit\": 16615079780.880001}, {\"Year\": \"2020\", \"area\": \"\\u5b81\\u590f\", \"Profit\": 6484832545.92}, {\"Year\": \"2020\", \"area\": \"\\u5b89\\u5fbd\", \"Profit\": 84303007572.73}, {\"Year\": \"2020\", \"area\": \"\\u5c71\\u4e1c\", \"Profit\": 133125264593.08}, {\"Year\": \"2020\", \"area\": \"\\u5c71\\u897f\", \"Profit\": 30170651764.55}, {\"Year\": \"2020\", \"area\": \"\\u5e7f\\u4e1c\", \"Profit\": 168312224507.92}, {\"Year\": \"2020\", \"area\": \"\\u5e7f\\u897f\", \"Profit\": 12359256735.91}, {\"Year\": \"2020\", \"area\": \"\\u65b0\\u7586\", \"Profit\": 34247827202.9}, {\"Year\": \"2020\", \"area\": \"\\u6c5f\\u82cf\", \"Profit\": 211714009415.96}, {\"Year\": \"2020\", \"area\": \"\\u6c5f\\u897f\", \"Profit\": 24668942354.48}, {\"Year\": \"2020\", \"area\": \"\\u6cb3\\u5317\", \"Profit\": 46743479618.77}, {\"Year\": \"2020\", \"area\": \"\\u6cb3\\u5357\", \"Profit\": 58746431917.229996}, {\"Year\": \"2020\", \"area\": \"\\u6d59\\u6c5f\", \"Profit\": 254384083254.1}, {\"Year\": \"2020\", \"area\": \"\\u6d77\\u5357\", \"Profit\": -74617642881.59}, {\"Year\": \"2020\", \"area\": \"\\u6df1\\u5733\", \"Profit\": 537174524203.55}, {\"Year\": \"2020\", \"area\": \"\\u6e56\\u5317\", \"Profit\": 34116102041.46}, {\"Year\": \"2020\", \"area\": \"\\u6e56\\u5357\", \"Profit\": 53611105947.89}, {\"Year\": \"2020\", \"area\": \"\\u7518\\u8083\", \"Profit\": 5837315058.86}, {\"Year\": \"2020\", \"area\": \"\\u798f\\u5efa\", \"Profit\": 126479950449.72}, {\"Year\": \"2020\", \"area\": \"\\u897f\\u85cf\", \"Profit\": 5939255840.52}, {\"Year\": \"2020\", \"area\": \"\\u8d35\\u5dde\", \"Profit\": 60146178218.24}, {\"Year\": \"2020\", \"area\": \"\\u8fbd\\u5b81\", \"Profit\": 31618026657.98}, {\"Year\": \"2020\", \"area\": \"\\u91cd\\u5e86\", \"Profit\": 43831404006.08}, {\"Year\": \"2020\", \"area\": \"\\u9655\\u897f\", \"Profit\": 35148677683.29}, {\"Year\": \"2020\", \"area\": \"\\u9752\\u6d77\", \"Profit\": 37353912.20999992}, {\"Year\": \"2020\", \"area\": \"\\u9ed1\\u9f99\\u6c5f\", \"Profit\": 4971419054.559999}, {\"Year\": \"2021\", \"area\": \"\\u4e0a\\u6d77\", \"Profit\": 439639705398.32}, {\"Year\": \"2021\", \"area\": \"\\u4e91\\u5357\", \"Profit\": 27252112245.04}, {\"Year\": \"2021\", \"area\": \"\\u5185\\u8499\", \"Profit\": 44492098392.83}, {\"Year\": \"2021\", \"area\": \"\\u5317\\u4eac\", \"Profit\": 2235031725251.45}, {\"Year\": \"2021\", \"area\": \"\\u5409\\u6797\", \"Profit\": 13688150959.24}, {\"Year\": \"2021\", \"area\": \"\\u56db\\u5ddd\", \"Profit\": 81614307613.57}, {\"Year\": \"2021\", \"area\": \"\\u5929\\u6d25\", \"Profit\": 121608858913.98999}, {\"Year\": \"2021\", \"area\": \"\\u5b81\\u590f\", \"Profit\": 9003983417.12}, {\"Year\": \"2021\", \"area\": \"\\u5b89\\u5fbd\", \"Profit\": 95711126894.05}, {\"Year\": \"2021\", \"area\": \"\\u5c71\\u4e1c\", \"Profit\": 181629681034.8}, {\"Year\": \"2021\", \"area\": \"\\u5c71\\u897f\", \"Profit\": 63854913324.3}, {\"Year\": \"2021\", \"area\": \"\\u5e7f\\u4e1c\", \"Profit\": 198087323557.04}, {\"Year\": \"2021\", \"area\": \"\\u5e7f\\u897f\", \"Profit\": 11172690605.19}, {\"Year\": \"2021\", \"area\": \"\\u65b0\\u7586\", \"Profit\": 58589895467.25}, {\"Year\": \"2021\", \"area\": \"\\u6c5f\\u82cf\", \"Profit\": 196883330735.48}, {\"Year\": \"2021\", \"area\": \"\\u6c5f\\u897f\", \"Profit\": 16387236559.220001}, {\"Year\": \"2021\", \"area\": \"\\u6cb3\\u5317\", \"Profit\": 1044725804.2400026}, {\"Year\": \"2021\", \"area\": \"\\u6cb3\\u5357\", \"Profit\": 54294085243.2}, {\"Year\": \"2021\", \"area\": \"\\u6d59\\u6c5f\", \"Profit\": 316954154680.96}, {\"Year\": \"2021\", \"area\": \"\\u6d77\\u5357\", \"Profit\": 3363550855.6099997}, {\"Year\": \"2021\", \"area\": \"\\u6df1\\u5733\", \"Profit\": 485196272398.46}, {\"Year\": \"2021\", \"area\": \"\\u6e56\\u5317\", \"Profit\": 49520503097.56}, {\"Year\": \"2021\", \"area\": \"\\u6e56\\u5357\", \"Profit\": 55527229035.56}, {\"Year\": \"2021\", \"area\": \"\\u7518\\u8083\", \"Profit\": 9891973151.34}, {\"Year\": \"2021\", \"area\": \"\\u798f\\u5efa\", \"Profit\": 153972961623.72998}, {\"Year\": \"2021\", \"area\": \"\\u897f\\u85cf\", \"Profit\": 7033003196.01}, {\"Year\": \"2021\", \"area\": \"\\u8d35\\u5dde\", \"Profit\": 60655173392.28}, {\"Year\": \"2021\", \"area\": \"\\u8fbd\\u5b81\", \"Profit\": 36541407710.32}, {\"Year\": \"2021\", \"area\": \"\\u91cd\\u5e86\", \"Profit\": 47156055598.1}, {\"Year\": \"2021\", \"area\": \"\\u9655\\u897f\", \"Profit\": 54359601334.48}, {\"Year\": \"2021\", \"area\": \"\\u9752\\u6d77\", \"Profit\": 7466042037.18}, {\"Year\": \"2021\", \"area\": \"\\u9ed1\\u9f99\\u6c5f\", \"Profit\": 8765089137.99}, {\"Year\": \"2022\", \"area\": \"\\u4e0a\\u6d77\", \"Profit\": 357341045644.18}, {\"Year\": \"2022\", \"area\": \"\\u4e91\\u5357\", \"Profit\": 30502812314.39}, {\"Year\": \"2022\", \"area\": \"\\u5185\\u8499\", \"Profit\": 39265718766.83}, {\"Year\": \"2022\", \"area\": \"\\u5317\\u4eac\", \"Profit\": 2377919384959.91}, {\"Year\": \"2022\", \"area\": \"\\u5409\\u6797\", \"Profit\": 5567047098.24}, {\"Year\": \"2022\", \"area\": \"\\u56db\\u5ddd\", \"Profit\": 138300529611.66}, {\"Year\": \"2022\", \"area\": \"\\u5929\\u6d25\", \"Profit\": 156260051634.71}, {\"Year\": \"2022\", \"area\": \"\\u5b81\\u590f\", \"Profit\": 7328041818.66}, {\"Year\": \"2022\", \"area\": \"\\u5b89\\u5fbd\", \"Profit\": 71550042543.56999}, {\"Year\": \"2022\", \"area\": \"\\u5c71\\u4e1c\", \"Profit\": 158096005538.88998}, {\"Year\": \"2022\", \"area\": \"\\u5c71\\u897f\", \"Profit\": 74458537177.25}, {\"Year\": \"2022\", \"area\": \"\\u5e7f\\u4e1c\", \"Profit\": 161743707068.56}, {\"Year\": \"2022\", \"area\": \"\\u5e7f\\u897f\", \"Profit\": 1769893474.4500003}, {\"Year\": \"2022\", \"area\": \"\\u65b0\\u7586\", \"Profit\": 64939280761.74}, {\"Year\": \"2022\", \"area\": \"\\u6c5f\\u82cf\", \"Profit\": 224042969779.06}, {\"Year\": \"2022\", \"area\": \"\\u6c5f\\u897f\", \"Profit\": 33636013282.44}, {\"Year\": \"2022\", \"area\": \"\\u6cb3\\u5317\", \"Profit\": 34611732325.1}, {\"Year\": \"2022\", \"area\": \"\\u6cb3\\u5357\", \"Profit\": 64195662868.5}, {\"Year\": \"2022\", \"area\": \"\\u6d59\\u6c5f\", \"Profit\": 282644054008.48}, {\"Year\": \"2022\", \"area\": \"\\u6d77\\u5357\", \"Profit\": -19082718293.33}, {\"Year\": \"2022\", \"area\": \"\\u6df1\\u5733\", \"Profit\": 473162622490.88}, {\"Year\": \"2022\", \"area\": \"\\u6e56\\u5317\", \"Profit\": 44924503475.83}, {\"Year\": \"2022\", \"area\": \"\\u6e56\\u5357\", \"Profit\": 49692189637.82}, {\"Year\": \"2022\", \"area\": \"\\u7518\\u8083\", \"Profit\": 6934096733.68}, {\"Year\": \"2022\", \"area\": \"\\u798f\\u5efa\", \"Profit\": 167042043484.81}, {\"Year\": \"2022\", \"area\": \"\\u897f\\u85cf\", \"Profit\": 7988843522.07}, {\"Year\": \"2022\", \"area\": \"\\u8d35\\u5dde\", \"Profit\": 61926237772.28}, {\"Year\": \"2022\", \"area\": \"\\u8fbd\\u5b81\", \"Profit\": 4517043361.11}, {\"Year\": \"2022\", \"area\": \"\\u91cd\\u5e86\", \"Profit\": 19572924827.44}, {\"Year\": \"2022\", \"area\": \"\\u9655\\u897f\", \"Profit\": 68136740217.240005}, {\"Year\": \"2022\", \"area\": \"\\u9752\\u6d77\", \"Profit\": 23610239929.739998}, {\"Year\": \"2022\", \"area\": \"\\u9ed1\\u9f99\\u6c5f\", \"Profit\": 4644391793.07}]}}, {\"mode\": \"vega-lite\"});\n",
       "</script>"
      ],
      "text/plain": [
       "alt.Chart(...)"
      ]
     },
     "execution_count": 51,
     "metadata": {},
     "output_type": "execute_result"
    }
   ],
   "source": [
    "profit_by_area = df[df.Quarter == 'Q4'].groupby(['Year', 'area'])[cols[4]].sum().to_frame(name='Profit').reset_index()\n",
    "plot_stack_hbar(profit_by_area, x='sum(Profit)', y='Year', color = 'area', title='Profit move').properties(height = 400)"
   ]
  },
  {
   "attachments": {},
   "cell_type": "markdown",
   "metadata": {},
   "source": [
    "- 以上结果只是用来留存做为交叉验证使用。\n",
    "- 需要重新考虑其它途径获得数据。\n",
    "  - baostock\n",
    "  - akshare其它源"
   ]
  }
 ],
 "metadata": {
  "kernelspec": {
   "display_name": ".venv",
   "language": "python",
   "name": "python3"
  },
  "language_info": {
   "codemirror_mode": {
    "name": "ipython",
    "version": 3
   },
   "file_extension": ".py",
   "mimetype": "text/x-python",
   "name": "python",
   "nbconvert_exporter": "python",
   "pygments_lexer": "ipython3",
   "version": "3.11.3"
  },
  "orig_nbformat": 4
 },
 "nbformat": 4,
 "nbformat_minor": 2
}
